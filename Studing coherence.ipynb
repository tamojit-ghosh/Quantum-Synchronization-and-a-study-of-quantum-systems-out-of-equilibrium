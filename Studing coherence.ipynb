{
 "cells": [
  {
   "cell_type": "code",
   "execution_count": 43,
   "id": "7cf49d8f",
   "metadata": {},
   "outputs": [],
   "source": [
    "import numpy as np\n",
    "import matplotlib.pyplot as plt\n",
    "from pylab import *\n",
    "from qutip import *\n",
    "from scipy.optimize import curve_fit\n",
    "from scipy.integrate import odeint\n",
    "from scipy.integrate import simpson\n",
    "\n",
    "plt.rcParams.update({'font.size': 14})"
   ]
  },
  {
   "cell_type": "code",
   "execution_count": 44,
   "id": "df83b561",
   "metadata": {},
   "outputs": [],
   "source": [
    "def coper(N,q0,myu):\n",
    "    cops=[]\n",
    "    a=destroy(N)\n",
    "    adag=a.dag()\n",
    "    zeta=myu/12\n",
    "    beta=myu/24\n",
    "    eta=myu*(q0**2-1)/4\n",
    "    const1=myu*(q0**2-1)\n",
    "    const2=3*myu/4\n",
    "    c1=sqrt(const1)*adag\n",
    "    c2=sqrt(const2)*a**2\n",
    "    c3=sqrt(myu)*(adag*a-0.5*adag**2)\n",
    "    cops.append(c1)\n",
    "    cops.append(c2)\n",
    "    cops.append(c3)\n",
    "    return cops\n",
    "def hamil(N,omega,q0,myu):\n",
    "    a=destroy(N)\n",
    "    adag=a.dag()\n",
    "    zeta=myu/12\n",
    "    beta=myu/24\n",
    "    eta=myu*(q0**2-1)/4\n",
    "    H=omega*adag*a+(1j*zeta*(adag*a**3-(adag**3)*a))+(1j*beta*(a**4-adag**4))-(1j*eta*(a**2-adag**2))\n",
    "    return H\n",
    "def retdiag(rho,N):\n",
    "    rhoii=[]\n",
    "    n=[]\n",
    "    for i in range(N):\n",
    "        rhoii.append(rho.diag())\n",
    "        n.append(i+1)\n",
    "    return n,rhoii\n",
    "def retdens(H,cops,N):\n",
    "    expop=rand_dm(N)\n",
    "    times = np.linspace(0.0, 100.0, 1000)\n",
    "    result_dm = mesolve(H, expop, times, cops)\n",
    "    return result_dm.states    \n",
    "def hamildriven(N,omega,q0,myu,n,omega1,epsilon,phi):\n",
    "    T=2*np.pi/omega1\n",
    "    t=np.linspace(0,1000,1000)\n",
    "    t=t*T\n",
    "    a=destroy(N)\n",
    "    adag=a.dag()\n",
    "    zeta=myu/12\n",
    "    beta=myu/24\n",
    "    eta=myu*(q0**2-1)/4\n",
    "    H=[]\n",
    "    for i in range (len(t)):\n",
    "        H.append(omega*adag*a+(1j*zeta*(adag*a**3-(adag**3)*a))+(1j*beta*(a**4-adag**4))-(1j*eta*(a**2-adag**2))-(1j*epsilon*t[i]*(a+adag)))\n",
    "    return H    \n",
    "    #H=omega*adag*a+(1j*zeta*(adag*a**3-(adag**3)*a))+(1j*beta*(a**4-adag**4))-(1j*eta*(a**2-adag**2))-(cosine)\n",
    "    \n",
    "    return H\n",
    "def Gauss(x, A, B, C):\n",
    "    y = A*np.exp(-((x-B)/C)**2)\n",
    "    return y\n",
    "def twovdpcoper1(N,q0,myu):\n",
    "    cops=[]\n",
    "    a=destroy(N)\n",
    "    adag=a.dag()\n",
    "    I=qeye(N)\n",
    "    zeta=myu/12\n",
    "    beta=myu/24\n",
    "    eta=myu*(q0**2-1)/4\n",
    "    const1=myu*(q0**2-1)\n",
    "    const2=3*myu/4\n",
    "    c1=sqrt(const1)*tensor(adag,I)\n",
    "    c2=sqrt(const2)*(tensor(a**2,I))\n",
    "    c3=sqrt(myu)*(tensor(adag*a,I)-0.5*tensor(adag**2,I))\n",
    "    cops.append(c1)\n",
    "    cops.append(c2)\n",
    "    cops.append(c3)\n",
    "    return cops\n",
    "def twovdpcoper2(N,q0,myu):\n",
    "    cops=[]\n",
    "    a=destroy(N)\n",
    "    adag=a.dag()\n",
    "    I=qeye(N)\n",
    "    zeta=myu/12\n",
    "    beta=myu/24\n",
    "    eta=myu*(q0**2-1)/4\n",
    "    const1=myu*(q0**2-1)\n",
    "    const2=3*myu/4\n",
    "    c1=sqrt(const1)*tensor(I,adag)\n",
    "    c2=sqrt(const2)*(tensor(I,a**2))\n",
    "    c3=sqrt(myu)*(tensor(I,adag*a)-0.5*tensor(I,adag**2))\n",
    "    cops.append(c1)\n",
    "    cops.append(c2)\n",
    "    cops.append(c3)\n",
    "    return cops\n",
    "    \n",
    "def twovdpcouplingcoper(cops1,cops2,N,D):\n",
    "    cops=[]\n",
    "    a=destroy(N)\n",
    "    adag=a.dag()\n",
    "    I=qeye(N)\n",
    "    for i in range(len(cops1)):\n",
    "        cops.append(cpos1[i])\n",
    "    for i in range(len(cops2)):\n",
    "        cops.append(cpos2[i])\n",
    "    c3=sqrt(D)*(tensor(a,I)-tensor(I,a))\n",
    "    cops.append(c3)\n",
    "    return cops\n",
    "def linexp(x,A,alpha,mean):\n",
    "    y=A*(x**2)*np.exp(-(alpha)*(x-mean)**2)\n",
    "    #y=A*x\n",
    "    return y\n",
    "def probrec(myu,q0,diag):\n",
    "    N=3000\n",
    "    p=np.zeros(N)\n",
    "    #p[0]=np.random.uniform(0,1)\n",
    "    #p[1]=np.random.uniform(0,1)\n",
    "    p[0]=0\n",
    "    p[1]=diag[0]\n",
    "    p[2]=diag[1]\n",
    "    #p[2]=np.random.uniform(0,1)\n",
    "    n=0\n",
    "    for i in range(N-3):\n",
    "        p[i+3]=-(4/(3*myu*(n+2)))*(((-myu*(q0**2-1))*p[i+1])+((3*myu/4)*(n*p[i+2]))-((myu/4)*(n*p[i]+(n+2)*p[i+1])))\n",
    "        n+=1\n",
    "        \n",
    "    return p\n",
    "def coherence(dm,N):\n",
    "    add=0\n",
    "    s=dm.full()\n",
    "    for j in range(N):\n",
    "        for k in range(N):\n",
    "            if (j!=k):\n",
    "                add+=abs(s[j][k])\n",
    "    return add\n",
    "    \n",
    "    \n",
    "    "
   ]
  },
  {
   "cell_type": "code",
   "execution_count": 45,
   "id": "4faaf43f",
   "metadata": {},
   "outputs": [],
   "source": [
    "q0=3\n",
    "omega=1\n",
    "N=60\n",
    "x=np.linspace(-8,+8,200)\n",
    "p=np.linspace(-8,+8,200)"
   ]
  },
  {
   "cell_type": "code",
   "execution_count": 46,
   "id": "e5c6077b",
   "metadata": {},
   "outputs": [],
   "source": [
    "myu=np.linspace(0.001,4,80)\n",
    "H=[]\n",
    "cops=[]\n",
    "ss=[]"
   ]
  },
  {
   "cell_type": "code",
   "execution_count": 47,
   "id": "0d63e102",
   "metadata": {},
   "outputs": [],
   "source": [
    "for i in range(len(myu)):\n",
    "    m=myu[i]\n",
    "    h=hamil(N,omega,q0,m)\n",
    "    c=coper(N,q0,m)\n",
    "    s=steadystate(h,c)\n",
    "    H.append(h)\n",
    "    cops.append(c)\n",
    "    ss.append(s)"
   ]
  },
  {
   "cell_type": "code",
   "execution_count": 48,
   "id": "7877182f",
   "metadata": {},
   "outputs": [],
   "source": [
    "coh=[]"
   ]
  },
  {
   "cell_type": "code",
   "execution_count": 49,
   "id": "8b61365c",
   "metadata": {},
   "outputs": [],
   "source": [
    "for i in range(len(myu)):\n",
    "    s=ss[i]\n",
    "    coh.append(coherence(s,N))"
   ]
  },
  {
   "cell_type": "code",
   "execution_count": 50,
   "id": "7b884155",
   "metadata": {},
   "outputs": [
    {
     "data": {
      "image/png": "[encoded data removed]",
      "text/plain": [
       "<Figure size 432x288 with 1 Axes>"
      ]
     },
     "metadata": {
      "needs_background": "light"
     },
     "output_type": "display_data"
    }
   ],
   "source": [
    "plt.scatter(myu,coh,s=5)\n",
    "plt.ylabel(r'$Coherence$ $\\mathcal{C}$')\n",
    "plt.xlabel(r'$\\mu$')\n",
    "plt.title('For steady state density matrices')\n",
    "plt,tight_layout()\n",
    "plt.savefig(\"cohvsmu.png\")"
   ]
  },
  {
   "cell_type": "code",
   "execution_count": 51,
   "id": "c050bfb7",
   "metadata": {},
   "outputs": [],
   "source": [
    "leftover=[]\n",
    "for i in range(len(myu)):\n",
    "    s=0\n",
    "    steady=np.zeros((N,N))\n",
    "    steady=ss[i].full()\n",
    "    for l in range(N):\n",
    "        for k in range(N):\n",
    "            if l!=k:\n",
    "                s+=abs(((-1j*omega)/myu[i])*(l-k)*steady[l][k])\n",
    "    leftover.append(s)"
   ]
  },
  {
   "cell_type": "code",
   "execution_count": 59,
   "id": "15899ea9",
   "metadata": {},
   "outputs": [
    {
     "data": {
      "text/plain": [
       "[<matplotlib.lines.Line2D at 0x148f961bfa0>]"
      ]
     },
     "execution_count": 59,
     "metadata": {},
     "output_type": "execute_result"
    },
    {
     "data": {
      "image/png": "[encoded data removed]",
      "text/plain": [
       "<Figure size 432x288 with 1 Axes>"
      ]
     },
     "metadata": {
      "needs_background": "light"
     },
     "output_type": "display_data"
    }
   ],
   "source": [
    "plt.plot(myu,leftover)"
   ]
  },
  {
   "cell_type": "code",
   "execution_count": 58,
   "id": "4da95fce",
   "metadata": {},
   "outputs": [
    {
     "data": {
      "text/plain": [
       "[-23.44788349614153,\n",
       " -31.80694659107098,\n",
       " -25.989449748419926,\n",
       " -19.937317734074796,\n",
       " -15.867582446323533,\n",
       " -13.106811054960826,\n",
       " -11.115597752579637,\n",
       " -9.600332058855166,\n",
       " -8.403964048166088,\n",
       " -7.434207215766934,\n",
       " -6.632089056540444,\n",
       " -5.9580245976442106,\n",
       " -5.38429594429683,\n",
       " -4.890738212447055,\n",
       " -4.462249279959688,\n",
       " -4.087253091631924,\n",
       " -3.756713534487458,\n",
       " -3.4634721575092597,\n",
       " -3.2017873347321073,\n",
       " -2.9670044969505764,\n",
       " -2.7553147717835778,\n",
       " -2.563575040348173,\n",
       " -2.3891717065259543,\n",
       " -2.229916208976221,\n",
       " -2.083963973781464,\n",
       " -1.9497509246030587,\n",
       " -1.8259433052911656,\n",
       " -1.7113977044580457,\n",
       " -1.6051289726122941,\n",
       " -1.5062842974556447,\n",
       " -1.4141221215416246,\n",
       " -1.32799489499434,\n",
       " -1.247334885810146,\n",
       " -1.1716424431300902,\n",
       " -1.1004762400218624,\n",
       " -1.0334451226018107,\n",
       " -0.9702012695767543,\n",
       " -0.9104344261913591,\n",
       " -0.8538670233141443,\n",
       " -0.8002500290943013,\n",
       " -0.7493594095922833,\n",
       " -0.700993097780918,\n",
       " -0.6549683886563591,\n",
       " -0.6111196929022258,\n",
       " -0.5692965933926275,\n",
       " -0.5293621583994601,\n",
       " -0.4911914731544813,\n",
       " -0.4546703577667819,\n",
       " -0.41969424469864025,\n",
       " -0.38616719328166016,\n",
       " -0.35400102228558317,\n",
       " -0.3231145444775885,\n",
       " -0.29343288954212365,\n",
       " -0.2648869037592385,\n",
       " -0.23741261653649404,\n",
       " -0.21095076531579426,\n",
       " -0.18544637157442123,\n",
       " -0.16084836165501426,\n",
       " -0.1371092270158938,\n",
       " -0.11418471922341977,\n",
       " -0.09203357562826331,\n",
       " -0.07061727219805203,\n",
       " -0.04989980043275821,\n",
       " -0.02984746567861829,\n",
       " -0.010428704491611596,\n",
       " 0.008386081009316149,\n",
       " 0.02662467360959564,\n",
       " 0.044313177880930255,\n",
       " 0.06147614488339248,\n",
       " 0.07813668593074641,\n",
       " 0.09431657651919712,\n",
       " 0.11003635139544965,\n",
       " 0.12531539163123862,\n",
       " 0.14017200447607614,\n",
       " 0.15462349667617303,\n",
       " 0.1686862418737114,\n",
       " 0.18237574263576484,\n",
       " 0.195706687604843,\n",
       " 0.2086930042120061,\n",
       " 0.2213479073491168]"
      ]
     },
     "execution_count": 58,
     "metadata": {},
     "output_type": "execute_result"
    }
   ],
   "source": [
    "coh0=[]\n",
    "for i in range(len(myu)):\n",
    "    coh0.append(coh[i]-leftover[i])\n",
    "coh0"
   ]
  },
  {
   "cell_type": "code",
   "execution_count": 9,
   "id": "69997b15",
   "metadata": {},
   "outputs": [
    {
     "data": {
      "text/plain": [
       "Text(0.5, 1.0, 'For steady state density matrices')"
      ]
     },
     "execution_count": 9,
     "metadata": {},
     "output_type": "execute_result"
    },
    {
     "data": {
      "image/png": "[encoded data removed]",
      "text/plain": [
       "<Figure size 432x288 with 1 Axes>"
      ]
     },
     "metadata": {
      "needs_background": "light"
     },
     "output_type": "display_data"
    }
   ],
   "source": [
    "q0=2\n",
    "omega=1\n",
    "x=np.linspace(-8,+8,200)\n",
    "p=np.linspace(-8,+8,200)\n",
    "myu=[]\n",
    "myu=np.linspace(0.001,4,80)\n",
    "H=[]\n",
    "cops=[]\n",
    "ss=[]\n",
    "\n",
    "for i in range(len(myu)):\n",
    "    m=myu[i]\n",
    "    h=hamil(N,omega,q0,m)\n",
    "    c=coper(N,q0,m)\n",
    "    s=steadystate(h,c)\n",
    "    H.append(h)\n",
    "    cops.append(c)\n",
    "    ss.append(s)\n",
    "\n",
    "coh1=[]\n",
    "\n",
    "for i in range(len(myu)):\n",
    "    s=ss[i]\n",
    "    coh1.append(coherence(s,N))\n",
    "\n",
    "plt.scatter(myu,coh1,s=5)\n",
    "plt.ylabel(r'$\\mathcal{C}$')\n",
    "plt.xlabel(r'$\\mu$')\n",
    "plt.title('For steady state density matrices')\n",
    "#plt.savefig(\"cohvsmu.png\")"
   ]
  },
  {
   "cell_type": "code",
   "execution_count": 10,
   "id": "1a879b28",
   "metadata": {},
   "outputs": [
    {
     "data": {
      "text/plain": [
       "Text(0.5, 1.0, 'For steady state density matrices')"
      ]
     },
     "execution_count": 10,
     "metadata": {},
     "output_type": "execute_result"
    },
    {
     "data": {
      "image/png": "[encoded data removed]",
      "text/plain": [
       "<Figure size 432x288 with 1 Axes>"
      ]
     },
     "metadata": {
      "needs_background": "light"
     },
     "output_type": "display_data"
    }
   ],
   "source": [
    "q0=4\n",
    "omega=1\n",
    "x=np.linspace(-8,+8,200)\n",
    "p=np.linspace(-8,+8,200)\n",
    "myu=[]\n",
    "myu=np.linspace(0.001,4,80)\n",
    "H=[]\n",
    "cops=[]\n",
    "ss=[]\n",
    "\n",
    "for i in range(len(myu)):\n",
    "    m=myu[i]\n",
    "    h=hamil(N,omega,q0,m)\n",
    "    c=coper(N,q0,m)\n",
    "    s=steadystate(h,c)\n",
    "    H.append(h)\n",
    "    cops.append(c)\n",
    "    ss.append(s)\n",
    "\n",
    "coh2=[]\n",
    "\n",
    "for i in range(len(myu)):\n",
    "    s=ss[i]\n",
    "    coh2.append(coherence(s,N))\n",
    "\n",
    "plt.scatter(myu,coh2,s=5)\n",
    "plt.ylabel(r'$\\mathcal{C}$')\n",
    "plt.xlabel(r'$\\mu$')\n",
    "plt.title('For steady state density matrices')\n",
    "#plt.savefig(\"cohvsmu.png\")"
   ]
  },
  {
   "cell_type": "code",
   "execution_count": 11,
   "id": "b61bdb97",
   "metadata": {},
   "outputs": [
    {
     "data": {
      "image/png": "[encoded data removed]",
      "text/plain": [
       "<Figure size 432x288 with 1 Axes>"
      ]
     },
     "metadata": {
      "needs_background": "light"
     },
     "output_type": "display_data"
    }
   ],
   "source": [
    "plt.scatter(myu,coh1,s=5,label=r'$q_0$ $=$ $2$')\n",
    "plt.scatter(myu,coh,s=5,label=r'$q_0$ $=$ $3$')\n",
    "plt.scatter(myu,coh2,s=5,label=r'$q_0$ $=$ $4$')\n",
    "plt.ylabel(r'$Coherence$ $\\mathcal{C}$')\n",
    "plt.xlabel(r'$\\mu$')\n",
    "plt.title('For steady state density matrices')\n",
    "plt.legend()\n",
    "plt.savefig(\"cohvsmudiffq0.png\")"
   ]
  },
  {
   "cell_type": "code",
   "execution_count": 12,
   "id": "a985a1d2",
   "metadata": {},
   "outputs": [
    {
     "data": {
      "text/plain": [
       "1.2171049510717629"
      ]
     },
     "execution_count": 12,
     "metadata": {},
     "output_type": "execute_result"
    }
   ],
   "source": [
    "c1=max(coh)\n",
    "c1"
   ]
  },
  {
   "cell_type": "code",
   "execution_count": 13,
   "id": "bc181340",
   "metadata": {},
   "outputs": [
    {
     "data": {
      "text/plain": [
       "1.215886075949367"
      ]
     },
     "execution_count": 13,
     "metadata": {},
     "output_type": "execute_result"
    }
   ],
   "source": [
    "myu[coh.index(c1)]"
   ]
  },
  {
   "cell_type": "code",
   "execution_count": 14,
   "id": "72f73a2d",
   "metadata": {},
   "outputs": [
    {
     "data": {
      "text/plain": [
       "[0.009789187790532913,\n",
       " 0.5259575529209196,\n",
       " 0.8021159256360848,\n",
       " 0.9238530432821079,\n",
       " 0.9957390110705308,\n",
       " 1.0474792692590473,\n",
       " 1.0869801289998586,\n",
       " 1.1174717215106171,\n",
       " 1.1410810672930343,\n",
       " 1.159372222140297,\n",
       " 1.1735119174995154,\n",
       " 1.1844083035894253,\n",
       " 1.1927787938643446,\n",
       " 1.199186820301905,\n",
       " 1.2040725761096416,\n",
       " 1.2077783498747676,\n",
       " 1.2105695408676866,\n",
       " 1.21265164226975,\n",
       " 1.2141837194895821,\n",
       " 1.2152889725390348,\n",
       " 1.2160629400856444,\n",
       " 1.216579833759904,\n",
       " 1.2168974108724577,\n",
       " 1.217060715759668,\n",
       " 1.2171049510717629,\n",
       " 1.2170576826438728,\n",
       " 1.2169405349954052,\n",
       " 1.2167704977405724,\n",
       " 1.2165609346475967,\n",
       " 1.2163223651565176,\n",
       " 1.2160630714396667,\n",
       " 1.2157895713843863,\n",
       " 1.2155069882513918,\n",
       " 1.2152193404733,\n",
       " 1.2149297695382475,\n",
       " 1.2146407197183524,\n",
       " 1.2143540802243036,\n",
       " 1.2140712979481072,\n",
       " 1.2137934671098296,\n",
       " 1.2135214007110746,\n",
       " 1.2132556876139065,\n",
       " 1.2129967382287505,\n",
       " 1.2127448211499987,\n",
       " 1.2125000925783966,\n",
       " 1.2122626199807238,\n",
       " 1.2120324011345196,\n",
       " 1.2118093794683789,\n",
       " 1.2115934564223945,\n",
       " 1.2113845014070663,\n",
       " 1.2111823598229317,\n",
       " 1.2109868595120747,\n",
       " 1.2107978159396395,\n",
       " 1.2106150363455217,\n",
       " 1.2104383230603797,\n",
       " 1.2102674761429082,\n",
       " 1.2101022954654779,\n",
       " 1.2099425823516587,\n",
       " 1.2097881408494997,\n",
       " 1.2096387787090734,\n",
       " 1.2094943081200429,\n",
       " 1.2093545462549142,\n",
       " 1.209219315655072,\n",
       " 1.2090884444901333,\n",
       " 1.2089617667154993,\n",
       " 1.2088391221485146,\n",
       " 1.2087203564798512,\n",
       " 1.2086053212338406,\n",
       " 1.2084938736889161,\n",
       " 1.2083858767671936,\n",
       " 1.2082811989007725,\n",
       " 1.2081797138806807,\n",
       " 1.2080813006935085,\n",
       " 1.2079858433496433,\n",
       " 1.2078932307063346,\n",
       " 1.2078033562882264,\n",
       " 1.2077161181073846,\n",
       " 1.2076314184844297,\n",
       " 1.2075491638721352,\n",
       " 1.2074692646823841,\n",
       " 1.2073916351173697]"
      ]
     },
     "execution_count": 14,
     "metadata": {},
     "output_type": "execute_result"
    }
   ],
   "source": [
    "coh"
   ]
  },
  {
   "cell_type": "code",
   "execution_count": 15,
   "id": "4321cf76",
   "metadata": {},
   "outputs": [
    {
     "data": {
      "image/png": "[encoded data removed]",
      "text/plain": [
       "<Figure size 576x432 with 2 Axes>"
      ]
     },
     "metadata": {
      "needs_background": "light"
     },
     "output_type": "display_data"
    }
   ],
   "source": [
    "abs(ss[79])\n",
    "fig, ax = hinton(ss[79])\n",
    "plt.show()"
   ]
  },
  {
   "cell_type": "code",
   "execution_count": 16,
   "id": "4d0ce7b2",
   "metadata": {},
   "outputs": [
    {
     "data": {
      "image/png": "[encoded data removed]",
      "text/plain": [
       "<Figure size 576x432 with 2 Axes>"
      ]
     },
     "metadata": {
      "needs_background": "light"
     },
     "output_type": "display_data"
    }
   ],
   "source": [
    "abs(ss[2])\n",
    "fig, ax = hinton(ss[2])\n",
    "plt.show()"
   ]
  },
  {
   "cell_type": "code",
   "execution_count": 17,
   "id": "4e21fecb",
   "metadata": {},
   "outputs": [],
   "source": [
    "taulist=np.linspace(0,10000,10000)\n",
    "wlist1 = np.linspace(0,2, 10000)\n",
    "a=destroy(N)\n",
    "adag=a.dag()"
   ]
  },
  {
   "cell_type": "code",
   "execution_count": 18,
   "id": "02f830db",
   "metadata": {},
   "outputs": [
    {
     "data": {
      "text/plain": [
       "0.5072025316455696"
      ]
     },
     "execution_count": 18,
     "metadata": {},
     "output_type": "execute_result"
    }
   ],
   "source": [
    "myu[10]"
   ]
  },
  {
   "cell_type": "code",
   "execution_count": 19,
   "id": "9ec5704a",
   "metadata": {},
   "outputs": [],
   "source": [
    "spec1 = spectrum(H[10], wlist1, cops[10], a.dag(), a)"
   ]
  },
  {
   "cell_type": "code",
   "execution_count": 20,
   "id": "544c146b",
   "metadata": {},
   "outputs": [
    {
     "data": {
      "text/plain": [
       "0.7178717871787179"
      ]
     },
     "execution_count": 20,
     "metadata": {},
     "output_type": "execute_result"
    }
   ],
   "source": [
    "for i in range(len(spec1)):\n",
    "    if spec1[i]==max(spec1):\n",
    "        w=wlist1[i]\n",
    "        break\n",
    "w"
   ]
  },
  {
   "cell_type": "code",
   "execution_count": 21,
   "id": "3cca3b80",
   "metadata": {},
   "outputs": [
    {
     "data": {
      "image/png": "[encoded data removed]",
      "text/plain": [
       "<Figure size 432x288 with 1 Axes>"
      ]
     },
     "metadata": {
      "needs_background": "light"
     },
     "output_type": "display_data"
    }
   ],
   "source": [
    "plt.plot(wlist1,spec1)\n",
    "plt.axvline(omega,color='g')\n",
    "plt.axvline(w,color='r')\n",
    "#plt.xlim(0,1.05)\n",
    "plt.xlabel(r'$\\omega$')\n",
    "plt.ylabel(r'$S_0$')\n",
    "plt.title(r'$For$ $\\mu$ $=$ $0.507$')\n",
    "plt.tight_layout()\n",
    "plt.savefig('smallmupower.png')"
   ]
  },
  {
   "cell_type": "code",
   "execution_count": 22,
   "id": "018f8b78",
   "metadata": {},
   "outputs": [
    {
     "data": {
      "text/plain": [
       "2.0258101265822783"
      ]
     },
     "execution_count": 22,
     "metadata": {},
     "output_type": "execute_result"
    }
   ],
   "source": [
    "myu[40]"
   ]
  },
  {
   "cell_type": "code",
   "execution_count": 23,
   "id": "103dbbe9",
   "metadata": {},
   "outputs": [],
   "source": [
    "spec2 = spectrum(H[40], wlist1, cops[40], a.dag(), a)"
   ]
  },
  {
   "cell_type": "code",
   "execution_count": 24,
   "id": "03a60f42",
   "metadata": {},
   "outputs": [
    {
     "data": {
      "text/plain": [
       "0.2528252825282528"
      ]
     },
     "execution_count": 24,
     "metadata": {},
     "output_type": "execute_result"
    }
   ],
   "source": [
    "for i in range(len(spec2)):\n",
    "    if spec2[i]==max(spec2):\n",
    "        w=wlist1[i]\n",
    "        break\n",
    "w"
   ]
  },
  {
   "cell_type": "code",
   "execution_count": 25,
   "id": "9e749392",
   "metadata": {},
   "outputs": [
    {
     "data": {
      "image/png": "[encoded data removed]",
      "text/plain": [
       "<Figure size 432x288 with 1 Axes>"
      ]
     },
     "metadata": {
      "needs_background": "light"
     },
     "output_type": "display_data"
    }
   ],
   "source": [
    "plt.plot(wlist1,spec2)\n",
    "plt.axvline(omega,color='g')\n",
    "plt.axvline(w,color='r')\n",
    "#plt.xlim(0,1.05)\n",
    "plt.xlabel(r'$\\omega$')\n",
    "plt.ylabel(r'$S_0$')\n",
    "plt.title(r'$For$ $\\mu$ $=$ $2.025$')\n",
    "plt.savefig('largemupower.png')"
   ]
  },
  {
   "cell_type": "code",
   "execution_count": 26,
   "id": "f9176ba2",
   "metadata": {},
   "outputs": [],
   "source": [
    "leftover=[]\n",
    "for i in range(len(myu)):\n",
    "    s=0\n",
    "    steady=np.zeros((N,N))\n",
    "    steady=ss[i].full()\n",
    "    for l in range(N):\n",
    "        for k in range(N):\n",
    "            if l!=k:\n",
    "                s+=abs(((-1j*omega)/myu[i])*(l-k)*steady[l][k])\n",
    "    leftover.append(s)\n",
    "                "
   ]
  },
  {
   "cell_type": "code",
   "execution_count": 27,
   "id": "d4217185",
   "metadata": {},
   "outputs": [
    {
     "data": {
      "text/plain": [
       "[43.376903623966435,\n",
       " 55.23100028391759,\n",
       " 40.32580766841492,\n",
       " 32.686973318196976,\n",
       " 27.71828472806789,\n",
       " 23.938123582186407,\n",
       " 20.92173297600685,\n",
       " 18.467199001774645,\n",
       " 16.44414702368301,\n",
       " 14.759237771920203,\n",
       " 13.342871168773046,\n",
       " 12.142068079644217,\n",
       " 11.115901912324805,\n",
       " 10.232396607767154,\n",
       " 9.466336280434875,\n",
       " 8.797674154855285,\n",
       " 8.210354265499916,\n",
       " 7.691426720062255,\n",
       " 7.230376476928912,\n",
       " 6.818609889925592,\n",
       " 6.449059169012763,\n",
       " 6.115875739920917,\n",
       " 5.814191099635801,\n",
       " 5.539929232029172,\n",
       " 5.289658632721006,\n",
       " 5.060474926764385,\n",
       " 4.8499072402407695,\n",
       " 4.65584311232744,\n",
       " 4.47646795401176,\n",
       " 4.310215979029079,\n",
       " 4.155730228832199,\n",
       " 4.011829843003765,\n",
       " 3.877483131194543,\n",
       " 3.7517853132982,\n",
       " 3.6339400341005605,\n",
       " 3.52324394417326,\n",
       " 3.4190737829816555,\n",
       " 3.320875512178998,\n",
       " 3.2281551337767693,\n",
       " 3.1404708988849515,\n",
       " 3.0574266789308933,\n",
       " 2.9786663164180296,\n",
       " 2.903868786787472,\n",
       " 2.8327440310850283,\n",
       " 2.7650293558546415,\n",
       " 2.700486316464152,\n",
       " 2.638898011837512,\n",
       " 2.5800667294799826,\n",
       " 2.5238118895406307,\n",
       " 2.469968244963744,\n",
       " 2.418384301638136,\n",
       " 2.368920928105825,\n",
       " 2.321450129070545,\n",
       " 2.275853960834896,\n",
       " 2.232023570040484,\n",
       " 2.1898583398016456,\n",
       " 2.1492651296069747,\n",
       " 2.11015759728681,\n",
       " 2.0724555929702935,\n",
       " 2.0360846163346547,\n",
       " 2.000975329620466,\n",
       " 1.9670631198848467,\n",
       " 1.9342877048175122,\n",
       " 1.902592777175295,\n",
       " 1.8719256835167204,\n",
       " 1.842237133459542,\n",
       " 1.8134809361478246,\n",
       " 1.7856137610184684,\n",
       " 1.7585949203052857,\n",
       " 1.732386171020941,\n",
       " 1.706951534420789,\n",
       " 1.682257131181215,\n",
       " 1.6582710307260478,\n",
       " 1.6349631133093647,\n",
       " 1.6123049436167771,\n",
       " 1.5902696547821,\n",
       " 1.5688318418351024,\n",
       " 1.5479674636999363,\n",
       " 1.5276537529572585,\n",
       " 1.5078691326632987]"
      ]
     },
     "execution_count": 27,
     "metadata": {},
     "output_type": "execute_result"
    }
   ],
   "source": [
    "leftover"
   ]
  },
  {
   "cell_type": "code",
   "execution_count": 28,
   "id": "124f09ab",
   "metadata": {},
   "outputs": [
    {
     "data": {
      "text/plain": [
       "[<matplotlib.lines.Line2D at 0x148f96e98e0>]"
      ]
     },
     "execution_count": 28,
     "metadata": {},
     "output_type": "execute_result"
    },
    {
     "data": {
      "image/png": "[encoded data removed]",
      "text/plain": [
       "<Figure size 432x288 with 1 Axes>"
      ]
     },
     "metadata": {
      "needs_background": "light"
     },
     "output_type": "display_data"
    }
   ],
   "source": [
    "plt.plot(myu,leftover)"
   ]
  },
  {
   "cell_type": "code",
   "execution_count": 29,
   "id": "78ffb228",
   "metadata": {},
   "outputs": [],
   "source": [
    "q0=2\n",
    "H=[]\n",
    "cops=[]\n",
    "ss=[]\n",
    "coh=[]\n",
    "for i in range(len(myu)):\n",
    "    m=myu[i]\n",
    "    h=hamil(N,omega,q0,m)\n",
    "    c=coper(N,q0,m)\n",
    "    s=steadystate(h,c)\n",
    "    H.append(h)\n",
    "    cops.append(c)\n",
    "    ss.append(s)\n",
    "for i in range(len(myu)):\n",
    "    s=ss[i]\n",
    "    coh.append(coherence(s,N))\n"
   ]
  },
  {
   "cell_type": "code",
   "execution_count": 30,
   "id": "8cebe592",
   "metadata": {},
   "outputs": [
    {
     "data": {
      "text/plain": [
       "Text(0.5, 0, '$\\\\mu$')"
      ]
     },
     "execution_count": 30,
     "metadata": {},
     "output_type": "execute_result"
    },
    {
     "data": {
      "image/png": "[encoded data removed]",
      "text/plain": [
       "<Figure size 432x288 with 1 Axes>"
      ]
     },
     "metadata": {
      "needs_background": "light"
     },
     "output_type": "display_data"
    }
   ],
   "source": [
    "plt.scatter(myu,coh)\n",
    "plt.ylabel(r'$\\mathcal{C}$')\n",
    "plt.xlabel(r'$\\mu$')\n",
    "#plt.title('For steady state density matrices')\n",
    "#plt.savefig(\"cohvsmu.png\")"
   ]
  },
  {
   "cell_type": "code",
   "execution_count": 31,
   "id": "a7861830",
   "metadata": {},
   "outputs": [
    {
     "data": {
      "text/plain": [
       "0.8029102486876547"
      ]
     },
     "execution_count": 31,
     "metadata": {},
     "output_type": "execute_result"
    }
   ],
   "source": [
    "c2=max(coh)\n",
    "c2"
   ]
  },
  {
   "cell_type": "code",
   "execution_count": 32,
   "id": "62065a0c",
   "metadata": {},
   "outputs": [
    {
     "data": {
      "text/plain": [
       "4.0"
      ]
     },
     "execution_count": 32,
     "metadata": {},
     "output_type": "execute_result"
    }
   ],
   "source": [
    "myu[coh.index(c2)]"
   ]
  },
  {
   "cell_type": "code",
   "execution_count": 33,
   "id": "53907e1c",
   "metadata": {},
   "outputs": [
    {
     "data": {
      "text/plain": [
       "0.41419470238410816"
      ]
     },
     "execution_count": 33,
     "metadata": {},
     "output_type": "execute_result"
    }
   ],
   "source": [
    "c1-c2"
   ]
  },
  {
   "cell_type": "code",
   "execution_count": 34,
   "id": "137ce725",
   "metadata": {},
   "outputs": [],
   "source": [
    "q0=1\n",
    "H=[]\n",
    "cops=[]\n",
    "ss=[]\n",
    "coh=[]\n",
    "for i in range(len(myu)):\n",
    "    m=myu[i]\n",
    "    h=hamil(N,omega,q0,m)\n",
    "    c=coper(N,q0,m)\n",
    "    s=steadystate(h,c)\n",
    "    H.append(h)\n",
    "    cops.append(c)\n",
    "    ss.append(s)\n",
    "for i in range(len(myu)):\n",
    "    s=ss[i]\n",
    "    coh.append(coherence(s,N))\n"
   ]
  },
  {
   "cell_type": "code",
   "execution_count": 35,
   "id": "a6e0d00c",
   "metadata": {},
   "outputs": [
    {
     "data": {
      "text/plain": [
       "Text(0.5, 0, '$\\\\mu$')"
      ]
     },
     "execution_count": 35,
     "metadata": {},
     "output_type": "execute_result"
    },
    {
     "data": {
      "image/png": "[encoded data removed]",
      "text/plain": [
       "<Figure size 432x288 with 1 Axes>"
      ]
     },
     "metadata": {
      "needs_background": "light"
     },
     "output_type": "display_data"
    }
   ],
   "source": [
    "plt.scatter(myu,coh)\n",
    "plt.ylabel(r'$\\mathcal{C}$')\n",
    "plt.xlabel(r'$\\mu$')\n",
    "#plt.title('For steady state density matrices')\n",
    "#plt.savefig(\"cohvsmu.png\")"
   ]
  },
  {
   "cell_type": "code",
   "execution_count": 36,
   "id": "06a37b8d",
   "metadata": {},
   "outputs": [
    {
     "data": {
      "text/plain": [
       "20.83525293258866"
      ]
     },
     "execution_count": 36,
     "metadata": {},
     "output_type": "execute_result"
    }
   ],
   "source": [
    "c3=max(coh)\n",
    "c3"
   ]
  },
  {
   "cell_type": "code",
   "execution_count": 37,
   "id": "1805d9af",
   "metadata": {},
   "outputs": [
    {
     "data": {
      "text/plain": [
       "1.7727088607594936"
      ]
     },
     "execution_count": 37,
     "metadata": {},
     "output_type": "execute_result"
    }
   ],
   "source": [
    "myu[coh.index(c3)]"
   ]
  },
  {
   "cell_type": "code",
   "execution_count": 38,
   "id": "a4f62b0d",
   "metadata": {},
   "outputs": [
    {
     "data": {
      "text/plain": [
       "-20.032342683901003"
      ]
     },
     "execution_count": 38,
     "metadata": {},
     "output_type": "execute_result"
    }
   ],
   "source": [
    "c2-c3"
   ]
  },
  {
   "cell_type": "code",
   "execution_count": 39,
   "id": "fc8b3eff",
   "metadata": {},
   "outputs": [],
   "source": [
    "times = np.linspace(0.0, 100.0, 1000)"
   ]
  },
  {
   "cell_type": "code",
   "execution_count": 40,
   "id": "a213b2e5",
   "metadata": {},
   "outputs": [],
   "source": [
    "dm1=retdens(H[0],cops[0],N)\n",
    "coh1=[]"
   ]
  },
  {
   "cell_type": "code",
   "execution_count": 41,
   "id": "1dc09155",
   "metadata": {},
   "outputs": [],
   "source": [
    "for i in range(len(times)):\n",
    "    s=dm1[i]\n",
    "    coh1.append(coherence(s,N))\n",
    "    "
   ]
  },
  {
   "cell_type": "code",
   "execution_count": 42,
   "id": "f005db8c",
   "metadata": {},
   "outputs": [
    {
     "data": {
      "text/plain": [
       "(-1.0, 60.0)"
      ]
     },
     "execution_count": 42,
     "metadata": {},
     "output_type": "execute_result"
    },
    {
     "data": {
      "image/png": "[encoded data removed]",
      "text/plain": [
       "<Figure size 432x288 with 1 Axes>"
      ]
     },
     "metadata": {
      "needs_background": "light"
     },
     "output_type": "display_data"
    }
   ],
   "source": [
    "plt.plot(times,coh1)\n",
    "plt.xlabel('Time')\n",
    "plt.ylabel('Coherence')\n",
    "plt.ylim(0,1)\n",
    "plt.xlim(-1,60)"
   ]
  }
 ],
 "metadata": {
  "kernelspec": {
   "display_name": "Python 3 (ipykernel)",
   "language": "python",
   "name": "python3"
  },
  "language_info": {
   "codemirror_mode": {
    "name": "ipython",
    "version": 3
   },
   "file_extension": ".py",
   "mimetype": "text/x-python",
   "name": "python",
   "nbconvert_exporter": "python",
   "pygments_lexer": "ipython3",
   "version": "3.8.8"
  }
 },
 "nbformat": 4,
 "nbformat_minor": 5
}
