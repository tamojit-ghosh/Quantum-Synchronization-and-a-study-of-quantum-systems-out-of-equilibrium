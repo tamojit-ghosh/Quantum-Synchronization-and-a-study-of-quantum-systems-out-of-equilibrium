{
 "cells": [
  {
   "cell_type": "code",
   "execution_count": 1,
   "id": "2deec80b",
   "metadata": {},
   "outputs": [],
   "source": [
    "import numpy as np\n",
    "import matplotlib.pyplot as plt\n",
    "from pylab import *\n",
    "from qutip import *\n",
    "from scipy.optimize import curve_fit\n",
    "from scipy.integrate import odeint\n",
    "from scipy.integrate import simpson\n",
    "from scipy import stats\n",
    "plt.rcParams.update({'font.size': 14})"
   ]
  },
  {
   "cell_type": "code",
   "execution_count": 2,
   "id": "97ed264c",
   "metadata": {},
   "outputs": [],
   "source": [
    "def model(z,t,myu,q0):\n",
    "    omega=1\n",
    "    x=z[0]\n",
    "    y=z[1]\n",
    "    dxdt=omega*y\n",
    "    dydt=-myu*dxdt*(x**2-q0**2)-omega*x\n",
    "    dzdt=[dxdt,dydt]\n",
    "    return dzdt\n",
    "def coper(N,q0,myu):\n",
    "    cops=[]\n",
    "    a=destroy(N)\n",
    "    adag=a.dag()\n",
    "    zeta=myu/12\n",
    "    beta=myu/24\n",
    "    eta=myu*(q0**2-1)/4\n",
    "    const1=myu*(q0**2-1)\n",
    "    const2=3*myu/4\n",
    "    c1=sqrt(const1)*adag\n",
    "    c2=sqrt(const2)*a**2\n",
    "    c3=sqrt(myu)*(adag*a-0.5*adag**2)\n",
    "    cops.append(c1)\n",
    "    cops.append(c2)\n",
    "    cops.append(c3)\n",
    "    return cops\n",
    "def hamil(N,omega,q0,myu):\n",
    "    a=destroy(N)\n",
    "    adag=a.dag()\n",
    "    zeta=myu/12\n",
    "    beta=myu/24\n",
    "    eta=myu*(q0**2-1)/4\n",
    "    H=omega*adag*a+(1j*zeta*(adag*a**3-(adag**3)*a))+(1j*beta*(a**4-adag**4))-(1j*eta*(a**2-adag**2))\n",
    "    return H\n",
    "def retdiag(rho,N):\n",
    "    rhoii=[]\n",
    "    n=[]\n",
    "    for i in range(N):\n",
    "        rhoii.append(rho.diag())\n",
    "        n.append(i+1)\n",
    "    return n,rhoii\n",
    "def retdens(H,cops,N):\n",
    "    expop=rand_dm(N)\n",
    "    times = np.linspace(0.0, 100.0, 10000)\n",
    "    result_dm = mesolve(H, expop, times, cops)\n",
    "    return result_dm.states    \n",
    "def Gauss(x, A, B, C):\n",
    "    y = A*np.exp(-((x-B)/C)**2)\n",
    "    return y\n",
    "def expdecay(x,lam,A):\n",
    "    y=A*np.exp(-lam*x)\n",
    "    return y\n",
    "def linfit(x,lam,C):\n",
    "    y=lam*x+C\n",
    "    return y\n",
    "def sinfreq(x,A,omega,phi):\n",
    "    y=A*np.sin(omega*x+phi)\n",
    "    return y\n",
    "def eig(myu,qo,omega):\n",
    "    e=[((myu*q0**2)+1j*sqrt(4*omega**2-(myu**2)*q0**4))/2,((myu*q0**2)-1j*sqrt(4*omega**2-(myu**2)*q0**4))/2]\n",
    "    return e\n",
    "def retindex(tl,period):\n",
    "    index2=0\n",
    "    t2=0\n",
    "    t2=tl[0]+abs(period)\n",
    "    epi=0.01\n",
    "    for i in range(len(tl)):\n",
    "        if tl[i]<=(t2+epi) and tl[i]>=(t2-epi):\n",
    "            index2=i\n",
    "    return index2\n",
    "def jacob(omega,q0,myu,q,p):\n",
    "    j=np.zeros((2,2))\n",
    "    j[0][0]=0\n",
    "    j[0][1]=omega\n",
    "    j[1][0]=-2*myu*q*p-omega\n",
    "    j[1][1]=-myu*(q**2-q0**2)\n",
    "    return j\n",
    "def floquet(omega,q0,myu,position,momentum,times,T):\n",
    "    final=np.identity(2)\n",
    "    I=np.identity(2)\n",
    "    for i in range(len(times)):\n",
    "        q=position[i]\n",
    "        p=momentum[i]\n",
    "        final=final*(I+(T/len(times))*(jacob(omega,q0,myu,q,p)))\n",
    "    return final\n",
    "def square(list):\n",
    "    return [i ** 2 for i in list]\n",
    "    "
   ]
  },
  {
   "cell_type": "code",
   "execution_count": 3,
   "id": "a659f053",
   "metadata": {},
   "outputs": [],
   "source": [
    "q0=3\n",
    "omega=1\n",
    "N=30\n",
    "x=np.linspace(-8,+8,200)\n",
    "p=np.linspace(-8,+8,200)"
   ]
  },
  {
   "cell_type": "code",
   "execution_count": 4,
   "id": "3645f004",
   "metadata": {},
   "outputs": [],
   "source": [
    "myu=[0.001,0.009,0.03,0.05,0.07,0.1]\n",
    "H=[]\n",
    "cops=[]\n",
    "ss=[]"
   ]
  },
  {
   "cell_type": "code",
   "execution_count": 5,
   "id": "4bd557f5",
   "metadata": {},
   "outputs": [],
   "source": [
    "for i in range(len(myu)):\n",
    "    m=myu[i]\n",
    "    h=hamil(N,omega,q0,m)\n",
    "    c=coper(N,q0,m)\n",
    "    s=steadystate(h,c)\n",
    "    H.append(h)\n",
    "    cops.append(c)\n",
    "    ss.append(s)"
   ]
  },
  {
   "cell_type": "code",
   "execution_count": 89,
   "id": "a08f1dff",
   "metadata": {},
   "outputs": [],
   "source": [
    "\n",
    "dm1=retdens(H[0],cops[0],N)"
   ]
  },
  {
   "cell_type": "code",
   "execution_count": 7,
   "id": "09426ef8",
   "metadata": {},
   "outputs": [
    {
     "data": {
      "text/plain": [
       "3"
      ]
     },
     "execution_count": 7,
     "metadata": {},
     "output_type": "execute_result"
    }
   ],
   "source": [
    "q0"
   ]
  },
  {
   "cell_type": "code",
   "execution_count": 114,
   "id": "1dd4d05f",
   "metadata": {},
   "outputs": [
    {
     "data": {
      "image/png": "[encoded data removed]",
      "text/plain": [
       "<Figure size 432x288 with 1 Axes>"
      ]
     },
     "metadata": {
      "needs_background": "light"
     },
     "output_type": "display_data"
    }
   ],
   "source": [
    "fid=[]\n",
    "times = np.linspace(0.0, 100.0, 10000)\n",
    "for i in range(len(dm1)):\n",
    "    fid.append(fidelity(dm1[i],ss[0]))\n",
    "plt.plot(times,fid)\n",
    "plt.ylabel(r'$Fidelity$ $F(\\rho,\\rho_{ss})$')\n",
    "plt.xlabel('Time')\n",
    "plt.title(r'$For$ $\\mu$ $=$ $0.001$')\n",
    "plt.tight_layout()\n",
    "plt.savefig(\"fid0.001.png\")\n"
   ]
  },
  {
   "cell_type": "code",
   "execution_count": 115,
   "id": "9351d704",
   "metadata": {},
   "outputs": [
    {
     "data": {
      "image/png": "[encoded data removed]",
      "text/plain": [
       "<Figure size 432x288 with 1 Axes>"
      ]
     },
     "metadata": {
      "needs_background": "light"
     },
     "output_type": "display_data"
    }
   ],
   "source": [
    "one=np.ones(len(fid))\n",
    "oneminusfid=one-fid\n",
    "plt.scatter(times,log(oneminusfid),s=0.5)\n",
    "plt.ylabel(r'$1$ $-$ $F(\\rho,\\rho_{ss})$')\n",
    "plt.xlabel('Time')\n",
    "plt.title(r'$For$ $\\mu$ $=$ $0.001$')\n",
    "plt.tight_layout()\n",
    "plt.savefig(\"1mfid0.001.png\")\n"
   ]
  },
  {
   "cell_type": "code",
   "execution_count": 118,
   "id": "1b039a75",
   "metadata": {},
   "outputs": [
    {
     "data": {
      "text/plain": [
       "<matplotlib.legend.Legend at 0x231bd38ad30>"
      ]
     },
     "execution_count": 118,
     "metadata": {},
     "output_type": "execute_result"
    },
    {
     "data": {
      "image/png": "[encoded data removed]",
      "text/plain": [
       "<Figure size 432x288 with 1 Axes>"
      ]
     },
     "metadata": {
      "needs_background": "light"
     },
     "output_type": "display_data"
    }
   ],
   "source": [
    "start=9900\n",
    "end=9999\n",
    "guess=np.random.rand(2)\n",
    "parameters1, covariance1 = curve_fit(linfit, times[start:end], log(oneminusfid[start:end]),p0=guess)\n",
    "fit_A = parameters1[0]\n",
    "fit_B = parameters1[1]\n",
    "#fit_y = expdecay(times, fit_A,fit_B)\n",
    "fit_y=linfit(times[start:end],fit_A,fit_B)\n",
    "plt.plot(times[start:end], log(oneminusfid[start:end]), 'o', label='data')\n",
    "plt.plot(times[start:end], fit_y, 'o', label='fit',linewidth=1)\n",
    "plt.ylabel(r'$log($ $1$ $-$ $F(\\rho,\\rho_{ss})$ $)$')\n",
    "plt.xlabel('Time')\n",
    "plt.title(r'$For$ $\\mu$ $=$ $0.001$')\n",
    "plt.tight_layout()\n",
    "plt.savefig(\"fitlog1mfid0.001.png\")\n",
    "plt.tight_layout()\n",
    "plt.legend()\n"
   ]
  },
  {
   "cell_type": "code",
   "execution_count": 119,
   "id": "dd2b8d8c",
   "metadata": {},
   "outputs": [
    {
     "data": {
      "text/plain": [
       "-0.021452095598395126"
      ]
     },
     "execution_count": 119,
     "metadata": {},
     "output_type": "execute_result"
    }
   ],
   "source": [
    "fit_A"
   ]
  },
  {
   "cell_type": "code",
   "execution_count": 120,
   "id": "da2be312",
   "metadata": {},
   "outputs": [],
   "source": [
    "lamb[0]=fit_A"
   ]
  },
  {
   "cell_type": "code",
   "execution_count": 171,
   "id": "d8da4e28",
   "metadata": {
    "scrolled": true
   },
   "outputs": [
    {
     "data": {
      "text/plain": [
       "Text(0.5, 1.0, 'For myu=0.009')"
      ]
     },
     "execution_count": 171,
     "metadata": {},
     "output_type": "execute_result"
    },
    {
     "data": {
      "image/png": "[encoded data removed]",
      "text/plain": [
       "<Figure size 432x288 with 1 Axes>"
      ]
     },
     "metadata": {
      "needs_background": "light"
     },
     "output_type": "display_data"
    }
   ],
   "source": [
    "dm2=retdens(H[1],cops[1],N)\n",
    "fid=[]\n",
    "times = np.linspace(0.0, 100.0, 10000)\n",
    "for i in range(len(dm2)):\n",
    "    fid.append(fidelity(dm2[i],ss[1]))\n",
    "plt.plot(times,fid)\n",
    "plt.ylabel('Fidelity')\n",
    "plt.xlabel('Time')\n",
    "plt.title('For myu=0.009')\n"
   ]
  },
  {
   "cell_type": "code",
   "execution_count": 172,
   "id": "46795872",
   "metadata": {},
   "outputs": [
    {
     "data": {
      "text/plain": [
       "<matplotlib.collections.PathCollection at 0x231b9afea30>"
      ]
     },
     "execution_count": 172,
     "metadata": {},
     "output_type": "execute_result"
    },
    {
     "data": {
      "image/png": "[encoded data removed]",
      "text/plain": [
       "<Figure size 432x288 with 1 Axes>"
      ]
     },
     "metadata": {
      "needs_background": "light"
     },
     "output_type": "display_data"
    }
   ],
   "source": [
    "one=np.ones(len(fid))\n",
    "oneminusfid=one-fid\n",
    "plt.scatter(times[1000:4000],log(oneminusfid[1000:4000]),s=0.5)"
   ]
  },
  {
   "cell_type": "code",
   "execution_count": 173,
   "id": "ea58e341",
   "metadata": {},
   "outputs": [
    {
     "data": {
      "text/plain": [
       "<matplotlib.legend.Legend at 0x231bde5f370>"
      ]
     },
     "execution_count": 173,
     "metadata": {},
     "output_type": "execute_result"
    },
    {
     "data": {
      "image/png": "[encoded data removed]",
      "text/plain": [
       "<Figure size 432x288 with 1 Axes>"
      ]
     },
     "metadata": {
      "needs_background": "light"
     },
     "output_type": "display_data"
    }
   ],
   "source": [
    "start=1600\n",
    "end=2600\n",
    "guess=np.random.rand(2)\n",
    "parameters1, covariance1 = curve_fit(linfit, times[start:end], log(oneminusfid[start:end]),p0=guess)\n",
    "fit_A = parameters1[0]\n",
    "fit_B = parameters1[1]\n",
    "#fit_y = expdecay(times, fit_A,fit_B)\n",
    "fit_y=linfit(times[start:end],fit_A,fit_B)\n",
    "plt.plot(times[start:end], log(oneminusfid[start:end]), 'o', label='data')\n",
    "plt.plot(times[start:end], fit_y, 'o', label='fit')\n",
    "plt.legend()"
   ]
  },
  {
   "cell_type": "code",
   "execution_count": 128,
   "id": "eaa307aa",
   "metadata": {},
   "outputs": [
    {
     "data": {
      "text/plain": [
       "-0.15633712697457525"
      ]
     },
     "execution_count": 128,
     "metadata": {},
     "output_type": "execute_result"
    }
   ],
   "source": [
    "fit_A"
   ]
  },
  {
   "cell_type": "code",
   "execution_count": 130,
   "id": "ea68a1ea",
   "metadata": {},
   "outputs": [],
   "source": [
    "lamb[1]=fit_A"
   ]
  },
  {
   "cell_type": "code",
   "execution_count": 188,
   "id": "3cac65fe",
   "metadata": {},
   "outputs": [
    {
     "data": {
      "text/plain": [
       "Text(0.5, 1.0, 'For myu=0.03')"
      ]
     },
     "execution_count": 188,
     "metadata": {},
     "output_type": "execute_result"
    },
    {
     "data": {
      "image/png": "[encoded data removed]",
      "text/plain": [
       "<Figure size 432x288 with 1 Axes>"
      ]
     },
     "metadata": {
      "needs_background": "light"
     },
     "output_type": "display_data"
    }
   ],
   "source": [
    "dm3=retdens(H[2],cops[2],N)\n",
    "fid=[]\n",
    "times = np.linspace(0.0, 100.0, 10000)\n",
    "for i in range(len(dm3)):\n",
    "    fid.append(fidelity(dm3[i],ss[2]))\n",
    "plt.plot(times,fid)\n",
    "plt.ylabel('Fidelity')\n",
    "plt.xlabel('Time')\n",
    "plt.title('For myu=0.03')\n"
   ]
  },
  {
   "cell_type": "code",
   "execution_count": 189,
   "id": "2ab10e40",
   "metadata": {},
   "outputs": [
    {
     "data": {
      "text/plain": [
       "<matplotlib.collections.PathCollection at 0x231c10d21c0>"
      ]
     },
     "execution_count": 189,
     "metadata": {},
     "output_type": "execute_result"
    },
    {
     "data": {
      "image/png": "[encoded data removed]",
      "text/plain": [
       "<Figure size 432x288 with 1 Axes>"
      ]
     },
     "metadata": {
      "needs_background": "light"
     },
     "output_type": "display_data"
    }
   ],
   "source": [
    "one=np.ones(len(fid))\n",
    "oneminusfid=one-fid\n",
    "plt.scatter(times[10:700],log(oneminusfid[10:700]),s=0.5)"
   ]
  },
  {
   "cell_type": "code",
   "execution_count": 192,
   "id": "9500e166",
   "metadata": {
    "scrolled": true
   },
   "outputs": [
    {
     "data": {
      "text/plain": [
       "<matplotlib.legend.Legend at 0x23190221d90>"
      ]
     },
     "execution_count": 192,
     "metadata": {},
     "output_type": "execute_result"
    },
    {
     "data": {
      "image/png": "[encoded data removed]",
      "text/plain": [
       "<Figure size 432x288 with 1 Axes>"
      ]
     },
     "metadata": {
      "needs_background": "light"
     },
     "output_type": "display_data"
    }
   ],
   "source": [
    "start=100\n",
    "end=220\n",
    "guess=np.random.rand(2)\n",
    "parameters1, covariance1 = curve_fit(linfit, times[start:end], log(oneminusfid[start:end]),p0=guess)\n",
    "fit_A = parameters1[0]\n",
    "fit_B = parameters1[1]\n",
    "#fit_y = expdecay(times, fit_A,fit_B)\n",
    "fit_y=linfit(times[start:end],fit_A,fit_B)\n",
    "plt.plot(times[start:end], log(oneminusfid[start:end]), 'o', label='data')\n",
    "plt.plot(times[start:end], fit_y, 'o', label='fit')\n",
    "plt.legend()"
   ]
  },
  {
   "cell_type": "code",
   "execution_count": 193,
   "id": "e65e0380",
   "metadata": {},
   "outputs": [
    {
     "data": {
      "text/plain": [
       "-0.7778858889949638"
      ]
     },
     "execution_count": 193,
     "metadata": {},
     "output_type": "execute_result"
    }
   ],
   "source": [
    "fit_A"
   ]
  },
  {
   "cell_type": "code",
   "execution_count": 194,
   "id": "ece99a4e",
   "metadata": {},
   "outputs": [],
   "source": [
    "lamb[2]=fit_A"
   ]
  },
  {
   "cell_type": "code",
   "execution_count": 156,
   "id": "dc0d30bc",
   "metadata": {},
   "outputs": [
    {
     "data": {
      "text/plain": [
       "Text(0.5, 1.0, 'For myu=0.05')"
      ]
     },
     "execution_count": 156,
     "metadata": {},
     "output_type": "execute_result"
    },
    {
     "data": {
      "image/png": "[encoded data removed]",
      "text/plain": [
       "<Figure size 432x288 with 1 Axes>"
      ]
     },
     "metadata": {
      "needs_background": "light"
     },
     "output_type": "display_data"
    }
   ],
   "source": [
    "dm4=retdens(H[3],cops[3],N)\n",
    "fid=[]\n",
    "times = np.linspace(0.0, 100.0, 10000)\n",
    "for i in range(len(dm4)):\n",
    "    fid.append(fidelity(dm4[i],ss[3]))\n",
    "plt.plot(times,fid)\n",
    "plt.ylabel('Fidelity')\n",
    "plt.xlabel('Time')\n",
    "plt.title('For myu=0.05')\n"
   ]
  },
  {
   "cell_type": "code",
   "execution_count": 157,
   "id": "bebf5c51",
   "metadata": {},
   "outputs": [
    {
     "data": {
      "text/plain": [
       "<matplotlib.collections.PathCollection at 0x23191216220>"
      ]
     },
     "execution_count": 157,
     "metadata": {},
     "output_type": "execute_result"
    },
    {
     "data": {
      "image/png": "[encoded data removed]",
      "text/plain": [
       "<Figure size 432x288 with 1 Axes>"
      ]
     },
     "metadata": {
      "needs_background": "light"
     },
     "output_type": "display_data"
    }
   ],
   "source": [
    "one=np.ones(len(fid))\n",
    "oneminusfid=one-fid\n",
    "plt.scatter(times[50:200],log(oneminusfid[50:200]),s=0.5)"
   ]
  },
  {
   "cell_type": "code",
   "execution_count": 161,
   "id": "95aa3706",
   "metadata": {},
   "outputs": [
    {
     "data": {
      "text/plain": [
       "<matplotlib.legend.Legend at 0x2318f0f2fd0>"
      ]
     },
     "execution_count": 161,
     "metadata": {},
     "output_type": "execute_result"
    },
    {
     "data": {
      "image/png": "[encoded data removed]",
      "text/plain": [
       "<Figure size 432x288 with 1 Axes>"
      ]
     },
     "metadata": {
      "needs_background": "light"
     },
     "output_type": "display_data"
    }
   ],
   "source": [
    "start=50\n",
    "end=80\n",
    "guess=np.random.rand(2)\n",
    "parameters1, covariance1 = curve_fit(linfit, times[start:end], log(oneminusfid[start:end]),p0=guess)\n",
    "fit_A = parameters1[0]\n",
    "fit_B = parameters1[1]\n",
    "#fit_y = expdecay(times, fit_A,fit_B)\n",
    "fit_y=linfit(times[start:end],fit_A,fit_B)\n",
    "plt.plot(times[start:end], log(oneminusfid[start:end]), 'o', label='data')\n",
    "plt.plot(times[start:end], fit_y, 'o', label='fit')\n",
    "plt.legend()"
   ]
  },
  {
   "cell_type": "code",
   "execution_count": 162,
   "id": "b090dae2",
   "metadata": {},
   "outputs": [
    {
     "data": {
      "text/plain": [
       "-1.5215099381245352"
      ]
     },
     "execution_count": 162,
     "metadata": {},
     "output_type": "execute_result"
    }
   ],
   "source": [
    "fit_A"
   ]
  },
  {
   "cell_type": "code",
   "execution_count": 163,
   "id": "0d0cdd37",
   "metadata": {},
   "outputs": [],
   "source": [
    "lamb[3]=fit_A"
   ]
  },
  {
   "cell_type": "code",
   "execution_count": 27,
   "id": "7574b0b2",
   "metadata": {},
   "outputs": [
    {
     "data": {
      "text/plain": [
       "[-0.025617654767250884,\n",
       " -0.1860632301549148,\n",
       " -0.6670007091370577,\n",
       " -1.4203992948269737]"
      ]
     },
     "execution_count": 27,
     "metadata": {},
     "output_type": "execute_result"
    }
   ],
   "source": [
    "lamb"
   ]
  },
  {
   "cell_type": "code",
   "execution_count": 51,
   "id": "839a1635",
   "metadata": {},
   "outputs": [
    {
     "data": {
      "text/plain": [
       "Text(0.5, 1.0, 'For myu=0.07')"
      ]
     },
     "execution_count": 51,
     "metadata": {},
     "output_type": "execute_result"
    },
    {
     "data": {
      "image/png": "[encoded data removed]",
      "text/plain": [
       "<Figure size 432x288 with 1 Axes>"
      ]
     },
     "metadata": {
      "needs_background": "light"
     },
     "output_type": "display_data"
    }
   ],
   "source": [
    "dm5=retdens(H[4],cops[4],N)\n",
    "fid=[]\n",
    "times = np.linspace(0.0, 100.0, 10000)\n",
    "for i in range(len(dm4)):\n",
    "    fid.append(fidelity(dm5[i],ss[4]))\n",
    "plt.plot(times,fid)\n",
    "plt.ylabel('Fidelity')\n",
    "plt.xlabel('Time')\n",
    "plt.title('For myu=0.07')"
   ]
  },
  {
   "cell_type": "code",
   "execution_count": 52,
   "id": "e5a79314",
   "metadata": {},
   "outputs": [
    {
     "data": {
      "text/plain": [
       "<matplotlib.collections.PathCollection at 0x231b88f9d90>"
      ]
     },
     "execution_count": 52,
     "metadata": {},
     "output_type": "execute_result"
    },
    {
     "data": {
      "image/png": "[encoded data removed]",
      "text/plain": [
       "<Figure size 432x288 with 1 Axes>"
      ]
     },
     "metadata": {
      "needs_background": "light"
     },
     "output_type": "display_data"
    }
   ],
   "source": [
    "one=np.ones(len(fid))\n",
    "oneminusfid=one-fid\n",
    "plt.scatter(times[5:90],log(oneminusfid[5:90]),s=2)"
   ]
  },
  {
   "cell_type": "code",
   "execution_count": 53,
   "id": "14b6e0eb",
   "metadata": {},
   "outputs": [
    {
     "data": {
      "text/plain": [
       "<matplotlib.legend.Legend at 0x2319cc79d60>"
      ]
     },
     "execution_count": 53,
     "metadata": {},
     "output_type": "execute_result"
    },
    {
     "data": {
      "image/png": "[encoded data removed]",
      "text/plain": [
       "<Figure size 432x288 with 1 Axes>"
      ]
     },
     "metadata": {
      "needs_background": "light"
     },
     "output_type": "display_data"
    }
   ],
   "source": [
    "start=40\n",
    "end=70\n",
    "guess=np.random.rand(2)\n",
    "parameters1, covariance1 = curve_fit(linfit, times[start:end], log(oneminusfid[start:end]),p0=guess)\n",
    "fit_A = parameters1[0]\n",
    "fit_B = parameters1[1]\n",
    "#fit_y = expdecay(times, fit_A,fit_B)\n",
    "fit_y=linfit(times[start:end],fit_A,fit_B)\n",
    "plt.plot(times[start:end], log(oneminusfid[start:end]), 'o', label='data')\n",
    "plt.plot(times[start:end], fit_y, 'o', label='fit')\n",
    "plt.legend()"
   ]
  },
  {
   "cell_type": "code",
   "execution_count": 54,
   "id": "178cce56",
   "metadata": {},
   "outputs": [
    {
     "data": {
      "text/plain": [
       "-2.181647552715823"
      ]
     },
     "execution_count": 54,
     "metadata": {},
     "output_type": "execute_result"
    }
   ],
   "source": [
    "fit_A"
   ]
  },
  {
   "cell_type": "code",
   "execution_count": 55,
   "id": "056e0d66",
   "metadata": {},
   "outputs": [],
   "source": [
    "lamb[4]=fit_A"
   ]
  },
  {
   "cell_type": "code",
   "execution_count": 33,
   "id": "13b4a3ca",
   "metadata": {},
   "outputs": [
    {
     "data": {
      "text/plain": [
       "0.1"
      ]
     },
     "execution_count": 33,
     "metadata": {},
     "output_type": "execute_result"
    }
   ],
   "source": [
    "myu[5]"
   ]
  },
  {
   "cell_type": "code",
   "execution_count": 34,
   "id": "cb55d878",
   "metadata": {},
   "outputs": [
    {
     "data": {
      "text/plain": [
       "Text(0.5, 1.0, 'For myu=0.1')"
      ]
     },
     "execution_count": 34,
     "metadata": {},
     "output_type": "execute_result"
    },
    {
     "data": {
      "image/png": "[encoded data removed]",
      "text/plain": [
       "<Figure size 432x288 with 1 Axes>"
      ]
     },
     "metadata": {
      "needs_background": "light"
     },
     "output_type": "display_data"
    }
   ],
   "source": [
    "dm6=retdens(H[5],cops[5],N)\n",
    "fid=[]\n",
    "times = np.linspace(0.0, 100.0, 10000)\n",
    "for i in range(len(dm6)):\n",
    "    fid.append(fidelity(dm6[i],ss[5]))\n",
    "plt.plot(times,fid)\n",
    "plt.ylabel('Fidelity')\n",
    "plt.xlabel('Time')\n",
    "plt.title('For myu=0.1')"
   ]
  },
  {
   "cell_type": "code",
   "execution_count": 35,
   "id": "9236c551",
   "metadata": {},
   "outputs": [
    {
     "data": {
      "text/plain": [
       "<matplotlib.collections.PathCollection at 0x231ab82eca0>"
      ]
     },
     "execution_count": 35,
     "metadata": {},
     "output_type": "execute_result"
    },
    {
     "data": {
      "image/png": "[encoded data removed]",
      "text/plain": [
       "<Figure size 432x288 with 1 Axes>"
      ]
     },
     "metadata": {
      "needs_background": "light"
     },
     "output_type": "display_data"
    }
   ],
   "source": [
    "one=np.ones(len(fid))\n",
    "oneminusfid=one-fid\n",
    "plt.scatter(times[5:90],log(oneminusfid[5:90]),s=2)"
   ]
  },
  {
   "cell_type": "code",
   "execution_count": 36,
   "id": "b74fdeeb",
   "metadata": {},
   "outputs": [
    {
     "data": {
      "text/plain": [
       "<matplotlib.legend.Legend at 0x231ab897c40>"
      ]
     },
     "execution_count": 36,
     "metadata": {},
     "output_type": "execute_result"
    },
    {
     "data": {
      "image/png": "[encoded data removed]",
      "text/plain": [
       "<Figure size 432x288 with 1 Axes>"
      ]
     },
     "metadata": {
      "needs_background": "light"
     },
     "output_type": "display_data"
    }
   ],
   "source": [
    "start=20\n",
    "end=40\n",
    "guess=np.random.rand(2)\n",
    "parameters1, covariance1 = curve_fit(linfit, times[start:end], log(oneminusfid[start:end]),p0=guess)\n",
    "fit_A = parameters1[0]\n",
    "fit_B = parameters1[1]\n",
    "#fit_y = expdecay(times, fit_A,fit_B)\n",
    "fit_y=linfit(times[start:end],fit_A,fit_B)\n",
    "plt.plot(times[start:end], log(oneminusfid[start:end]), 'o', label='data')\n",
    "plt.plot(times[start:end], fit_y, 'o', label='fit')\n",
    "plt.legend()"
   ]
  },
  {
   "cell_type": "code",
   "execution_count": 37,
   "id": "8a38c3df",
   "metadata": {},
   "outputs": [],
   "source": [
    "lamb.append(fit_A)"
   ]
  },
  {
   "cell_type": "code",
   "execution_count": 184,
   "id": "bb63d527",
   "metadata": {},
   "outputs": [
    {
     "data": {
      "image/png": "[encoded data removed]",
      "text/plain": [
       "<Figure size 432x288 with 1 Axes>"
      ]
     },
     "metadata": {
      "needs_background": "light"
     },
     "output_type": "display_data"
    }
   ],
   "source": [
    "plt.scatter(myu,np.abs(lamb))\n",
    "plt.ylabel(r'$\\lambda$')\n",
    "plt.xlabel(r'$\\mu$')\n",
    "plt.tight_layout()\n",
    "plt.savefig('lammyu.png')\n"
   ]
  },
  {
   "cell_type": "code",
   "execution_count": 39,
   "id": "65d1dbaf",
   "metadata": {},
   "outputs": [
    {
     "data": {
      "text/plain": [
       "10000"
      ]
     },
     "execution_count": 39,
     "metadata": {},
     "output_type": "execute_result"
    }
   ],
   "source": [
    "len(times)"
   ]
  },
  {
   "cell_type": "code",
   "execution_count": 40,
   "id": "b69263c1",
   "metadata": {},
   "outputs": [],
   "source": [
    "flexp=[-0.0035339617294815277,\n",
    " -0.07812232131595394,\n",
    " -0.27245448225588853,\n",
    " -0.4593171640883984,\n",
    " -0.6509590318546369,\n",
    " -0.9599822867872988]"
   ]
  },
  {
   "cell_type": "code",
   "execution_count": 195,
   "id": "093c92ff",
   "metadata": {},
   "outputs": [
    {
     "data": {
      "text/plain": [
       "<matplotlib.collections.PathCollection at 0x2319023a400>"
      ]
     },
     "execution_count": 195,
     "metadata": {},
     "output_type": "execute_result"
    },
    {
     "data": {
      "image/png": "[encoded data removed]",
      "text/plain": [
       "<Figure size 432x288 with 1 Axes>"
      ]
     },
     "metadata": {
      "needs_background": "light"
     },
     "output_type": "display_data"
    }
   ],
   "source": [
    "plt.scatter(myu,np.abs(lamb))"
   ]
  },
  {
   "cell_type": "code",
   "execution_count": 196,
   "id": "b1485e4a",
   "metadata": {
    "scrolled": true
   },
   "outputs": [
    {
     "data": {
      "image/png": "[encoded data removed]",
      "text/plain": [
       "<Figure size 432x288 with 1 Axes>"
      ]
     },
     "metadata": {
      "needs_background": "light"
     },
     "output_type": "display_data"
    }
   ],
   "source": [
    "guess=np.random.rand(2)\n",
    "parameters1, covariance1 = curve_fit(linfit, myu, np.abs(lamb),p0=guess)\n",
    "fit_A = parameters1[0]\n",
    "fit_B = parameters1[1]\n",
    "fit_y=linfit(np.asarray(myu),fit_A,fit_B)\n",
    "plt.plot (myu, np.abs(lamb), 'o', label='data')\n",
    "plt.plot(myu, fit_y, 'o', label='fit')\n",
    "plt.legend()\n",
    "plt.ylabel(r'$\\lambda$')\n",
    "plt.xlabel(r'$\\mu$')\n",
    "plt.title('Fitted with y=m1*x+c')\n",
    "plt.tight_layout()\n",
    "plt.savefig('lammyufit.png')"
   ]
  },
  {
   "cell_type": "code",
   "execution_count": 197,
   "id": "8d83fbab",
   "metadata": {},
   "outputs": [],
   "source": [
    "m1=fit_A"
   ]
  },
  {
   "cell_type": "code",
   "execution_count": 198,
   "id": "776e4882",
   "metadata": {},
   "outputs": [
    {
     "data": {
      "image/png": "[encoded data removed]",
      "text/plain": [
       "<Figure size 432x288 with 1 Axes>"
      ]
     },
     "metadata": {
      "needs_background": "light"
     },
     "output_type": "display_data"
    }
   ],
   "source": [
    "guess=np.random.rand(2)\n",
    "parameters1, covariance1 = curve_fit(linfit, myu, np.abs(flexp),p0=guess)\n",
    "fit_A = parameters1[0]\n",
    "fit_B = parameters1[1]\n",
    "fit_y=linfit(np.asarray(myu),fit_A,fit_B)\n",
    "plt.plot (myu, np.abs(flexp), 'o', label='data')\n",
    "plt.plot(myu, fit_y, 'o', label='fit')\n",
    "plt.legend()\n",
    "plt.ylabel(r'$|\\gamma|$')\n",
    "plt.xlabel(r'$\\mu$')\n",
    "plt.title('Fitted with y=m2*x+c')\n",
    "plt.tight_layout()\n",
    "plt.savefig('gammyufit.png')"
   ]
  },
  {
   "cell_type": "code",
   "execution_count": 199,
   "id": "bb0b7cda",
   "metadata": {},
   "outputs": [],
   "source": [
    "m2=fit_A"
   ]
  },
  {
   "cell_type": "code",
   "execution_count": 200,
   "id": "b72cb5bc",
   "metadata": {},
   "outputs": [
    {
     "data": {
      "text/plain": [
       "(33.49330444779313, 9.60678642675768)"
      ]
     },
     "execution_count": 200,
     "metadata": {},
     "output_type": "execute_result"
    }
   ],
   "source": [
    "m1,m2"
   ]
  },
  {
   "cell_type": "code",
   "execution_count": 201,
   "id": "b197decd",
   "metadata": {},
   "outputs": [
    {
     "data": {
      "image/png": "[encoded data removed]",
      "text/plain": [
       "<Figure size 432x288 with 1 Axes>"
      ]
     },
     "metadata": {
      "needs_background": "light"
     },
     "output_type": "display_data"
    }
   ],
   "source": [
    "plt.scatter(myu,np.abs(lamb),label=r'$\\lambda$')\n",
    "plt.scatter(myu,(m1/m2)*np.asarray(np.abs(flexp)),label=r'$|\\gamma|$')\n",
    "plt.legend()\n",
    "plt.xlabel(r'$\\mu$')\n",
    "plt.title('Superimposed after scaling by m1/m2')\n",
    "plt.tight_layout()\n",
    "plt.savefig(\"lamgamsuper.png\")"
   ]
  },
  {
   "cell_type": "code",
   "execution_count": 48,
   "id": "f68a06a3",
   "metadata": {},
   "outputs": [
    {
     "data": {
      "text/plain": [
       "3.5888321837588575"
      ]
     },
     "execution_count": 48,
     "metadata": {},
     "output_type": "execute_result"
    }
   ],
   "source": [
    "m1/m2"
   ]
  },
  {
   "cell_type": "code",
   "execution_count": 49,
   "id": "311a16d8",
   "metadata": {},
   "outputs": [
    {
     "data": {
      "text/plain": [
       "(array([0.02561765, 0.18606323, 0.66700071, 1.42039929, 2.45888091,\n",
       "        3.29369793]),\n",
       " array([-0.01060189, -0.23436696, -0.81736345, -1.37795149, -1.9528771 ,\n",
       "        -2.87994686]))"
      ]
     },
     "execution_count": 49,
     "metadata": {},
     "output_type": "execute_result"
    }
   ],
   "source": [
    "np.abs(lamb),3*np.asarray(flexp)"
   ]
  },
  {
   "cell_type": "code",
   "execution_count": 50,
   "id": "35397401",
   "metadata": {},
   "outputs": [
    {
     "data": {
      "text/plain": [
       "0.977215953875236"
      ]
     },
     "execution_count": 50,
     "metadata": {},
     "output_type": "execute_result"
    }
   ],
   "source": [
    "from sklearn.metrics import r2_score\n",
    "\n",
    "coefficient_of_dermination = r2_score(np.abs(lamb), (m1/m2)*np.asarray(np.abs(flexp)))\n",
    "\n",
    "coefficient_of_dermination"
   ]
  }
 ],
 "metadata": {
  "kernelspec": {
   "display_name": "Python 3 (ipykernel)",
   "language": "python",
   "name": "python3"
  },
  "language_info": {
   "codemirror_mode": {
    "name": "ipython",
    "version": 3
   },
   "file_extension": ".py",
   "mimetype": "text/x-python",
   "name": "python",
   "nbconvert_exporter": "python",
   "pygments_lexer": "ipython3",
   "version": "3.8.8"
  }
 },
 "nbformat": 4,
 "nbformat_minor": 5
}
