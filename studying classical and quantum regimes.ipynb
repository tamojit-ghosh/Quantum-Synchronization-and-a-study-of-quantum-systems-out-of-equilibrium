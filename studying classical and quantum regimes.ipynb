{
 "cells": [
  {
   "cell_type": "code",
   "execution_count": 1,
   "id": "b08c5c25",
   "metadata": {},
   "outputs": [],
   "source": [
    "import numpy as np\n",
    "import matplotlib.pyplot as plt\n",
    "from pylab import *\n",
    "from qutip import *\n",
    "from scipy.optimize import curve_fit\n",
    "from scipy.integrate import odeint\n",
    "from scipy.integrate import simpson\n",
    "plt.rcParams.update({'font.size': 14})"
   ]
  },
  {
   "cell_type": "code",
   "execution_count": 2,
   "id": "38135440",
   "metadata": {},
   "outputs": [],
   "source": [
    "def coper(N,q0,myu):\n",
    "    cops=[]\n",
    "    a=destroy(N)\n",
    "    adag=a.dag()\n",
    "    zeta=myu/12\n",
    "    beta=myu/24\n",
    "    eta=myu*(q0**2-1)/4\n",
    "    const1=myu*(q0**2-1)\n",
    "    const2=3*myu/4\n",
    "    c1=sqrt(const1)*adag\n",
    "    c2=sqrt(const2)*a**2\n",
    "    c3=sqrt(myu)*(adag*a-0.5*adag**2)\n",
    "    cops.append(c1)\n",
    "    cops.append(c2)\n",
    "    cops.append(c3)\n",
    "    return cops\n",
    "def hamil(N,omega,q0,myu):\n",
    "    a=destroy(N)\n",
    "    adag=a.dag()\n",
    "    zeta=myu/12\n",
    "    beta=myu/24\n",
    "    eta=myu*(q0**2-1)/4\n",
    "    H=omega*adag*a+(1j*zeta*(adag*a**3-(adag**3)*a))+(1j*beta*(a**4-adag**4))-(1j*eta*(a**2-adag**2))\n",
    "    return H\n",
    "def retdiag(rho,N):\n",
    "    rhoii=[]\n",
    "    n=[]\n",
    "    for i in range(N):\n",
    "        rhoii.append(rho.diag())\n",
    "        n.append(i+1)\n",
    "    return n,rhoii\n",
    "def retdens(H,cops,N):\n",
    "    expop=rand_dm(N)\n",
    "    times = np.linspace(0.0, 100.0, 10000)\n",
    "    result_dm = mesolve(H, expop, times, cops)\n",
    "    return result_dm.states    \n",
    "def hamildriven(N,omega,q0,myu,n,omega1,epsilon,phi):\n",
    "    T=2*np.pi/omega1\n",
    "    t=np.linspace(0,1000,1000)\n",
    "    t=t*T\n",
    "    a=destroy(N)\n",
    "    adag=a.dag()\n",
    "    zeta=myu/12\n",
    "    beta=myu/24\n",
    "    eta=myu*(q0**2-1)/4\n",
    "    H=[]\n",
    "    for i in range (len(t)):\n",
    "        H.append(omega*adag*a+(1j*zeta*(adag*a**3-(adag**3)*a))+(1j*beta*(a**4-adag**4))-(1j*eta*(a**2-adag**2))-(1j*epsilon*t[i]*(a+adag)))\n",
    "    return H    \n",
    "    #H=omega*adag*a+(1j*zeta*(adag*a**3-(adag**3)*a))+(1j*beta*(a**4-adag**4))-(1j*eta*(a**2-adag**2))-(cosine)\n",
    "    \n",
    "    return H\n",
    "def Gauss(x, A, B, C):\n",
    "    y = A*np.exp(-((x-B)/C)**2)\n",
    "    return y\n",
    "\n",
    "    \n",
    "def linexp(x,A,alpha,mean):\n",
    "    y=A*(x**2)*np.exp(-(alpha)*(x-mean)**2)\n",
    "    #y=A*x\n",
    "    return y\n",
    "def probrec(myu,q0,diag):\n",
    "    N=3000\n",
    "    p=np.zeros(N)\n",
    "    #p[0]=np.random.uniform(0,1)\n",
    "    #p[1]=np.random.uniform(0,1)\n",
    "    p[0]=0\n",
    "    p[1]=diag[0]\n",
    "    p[2]=diag[1]\n",
    "    #p[2]=np.random.uniform(0,1)\n",
    "    n=0\n",
    "    for i in range(N-3):\n",
    "        p[i+3]=-(4/(3*myu*(n+2)))*(((-myu*(q0**2-1))*p[i+1])+((3*myu/4)*(n*p[i+2]))-((myu/4)*(n*p[i]+(n+2)*p[i+1])))\n",
    "        n+=1\n",
    "        \n",
    "    return p\n",
    "    \n",
    "    "
   ]
  },
  {
   "cell_type": "code",
   "execution_count": 3,
   "id": "4d9e75c2",
   "metadata": {},
   "outputs": [],
   "source": [
    "q0=3\n",
    "omega=1\n",
    "N=30\n",
    "a=destroy(N)\n",
    "adag=a.dag()\n",
    "x=np.linspace(-8,+8,1000)\n",
    "p=np.linspace(-8,+8,1000)\n",
    "times = np.linspace(0.0, 100.0, 10000)"
   ]
  },
  {
   "cell_type": "code",
   "execution_count": 4,
   "id": "a1891e40",
   "metadata": {},
   "outputs": [],
   "source": [
    "myu=np.linspace(0.001,5,40)\n",
    "H=[]\n",
    "cops=[]\n",
    "ss=[]\n",
    "ex=[]"
   ]
  },
  {
   "cell_type": "code",
   "execution_count": 5,
   "id": "caf67176",
   "metadata": {},
   "outputs": [],
   "source": [
    "for i in range(len(myu)):\n",
    "    m=myu[i]\n",
    "    h=hamil(N,omega,q0,m)\n",
    "    c=coper(N,q0,m)\n",
    "    s=steadystate(h,c)\n",
    "    H.append(h)\n",
    "    cops.append(c)\n",
    "    ss.append(s)\n"
   ]
  },
  {
   "cell_type": "code",
   "execution_count": 6,
   "id": "e07526da",
   "metadata": {},
   "outputs": [],
   "source": [
    "for i in range(len(myu)):\n",
    "    ex.append(expect(adag*a,ss[i]))"
   ]
  },
  {
   "cell_type": "code",
   "execution_count": 7,
   "id": "838b0ea3",
   "metadata": {},
   "outputs": [
    {
     "data": {
      "text/plain": [
       "<matplotlib.collections.PathCollection at 0x2a291afba60>"
      ]
     },
     "execution_count": 7,
     "metadata": {},
     "output_type": "execute_result"
    },
    {
     "data": {
      "image/png": "[encoded data removed]",
      "text/plain": [
       "<Figure size 432x288 with 1 Axes>"
      ]
     },
     "metadata": {
      "needs_background": "light"
     },
     "output_type": "display_data"
    }
   ],
   "source": [
    "#plt.scatter(np.log(myu[1:]),np.log(ex[1:]))\n",
    "plt.scatter(myu,ex)"
   ]
  },
  {
   "cell_type": "code",
   "execution_count": 8,
   "id": "301fbdbe",
   "metadata": {},
   "outputs": [
    {
     "data": {
      "text/plain": [
       "<matplotlib.collections.PathCollection at 0x2589a85d0a0>"
      ]
     },
     "execution_count": 8,
     "metadata": {},
     "output_type": "execute_result"
    },
    {
     "data": {
      "image/png": "[encoded data removed]",
      "text/plain": [
       "<Figure size 432x288 with 1 Axes>"
      ]
     },
     "metadata": {
      "needs_background": "light"
     },
     "output_type": "display_data"
    }
   ],
   "source": [
    "plt.scatter(np.log(myu[1:]),np.log(ex[1:]))"
   ]
  },
  {
   "cell_type": "code",
   "execution_count": 9,
   "id": "bb00c30f",
   "metadata": {},
   "outputs": [
    {
     "data": {
      "text/plain": [
       "0.15469230769230768"
      ]
     },
     "execution_count": 9,
     "metadata": {},
     "output_type": "execute_result"
    }
   ],
   "source": [
    "myu[ex.index(max(ex))]"
   ]
  },
  {
   "cell_type": "code",
   "execution_count": 10,
   "id": "a338cc9d",
   "metadata": {},
   "outputs": [],
   "source": [
    "result_dm = mesolve(H[4], rand_dm(N), times, cops[4],adag*a)"
   ]
  },
  {
   "cell_type": "code",
   "execution_count": 11,
   "id": "ecf3b57f",
   "metadata": {},
   "outputs": [
    {
     "data": {
      "text/plain": [
       "[<matplotlib.lines.Line2D at 0x2589a8dcf70>]"
      ]
     },
     "execution_count": 11,
     "metadata": {},
     "output_type": "execute_result"
    },
    {
     "data": {
      "image/png": "[encoded data removed]",
      "text/plain": [
       "<Figure size 432x288 with 1 Axes>"
      ]
     },
     "metadata": {
      "needs_background": "light"
     },
     "output_type": "display_data"
    }
   ],
   "source": [
    "plt.plot(times[0:200],result_dm.expect[0][0:200])"
   ]
  },
  {
   "cell_type": "code",
   "execution_count": 12,
   "id": "b2e77a3e",
   "metadata": {},
   "outputs": [
    {
     "data": {
      "text/plain": [
       "array([0.001     , 0.02661538, 0.05223077, 0.07784615, 0.10346154,\n",
       "       0.12907692, 0.15469231, 0.18030769, 0.20592308, 0.23153846,\n",
       "       0.25715385, 0.28276923, 0.30838462, 0.334     , 0.35961538,\n",
       "       0.38523077, 0.41084615, 0.43646154, 0.46207692, 0.48769231,\n",
       "       0.51330769, 0.53892308, 0.56453846, 0.59015385, 0.61576923,\n",
       "       0.64138462, 0.667     , 0.69261538, 0.71823077, 0.74384615,\n",
       "       0.76946154, 0.79507692, 0.82069231, 0.84630769, 0.87192308,\n",
       "       0.89753846, 0.92315385, 0.94876923, 0.97438462, 1.        ])"
      ]
     },
     "execution_count": 12,
     "metadata": {},
     "output_type": "execute_result"
    }
   ],
   "source": [
    "myu"
   ]
  },
  {
   "cell_type": "code",
   "execution_count": 13,
   "id": "2a0c3b04",
   "metadata": {},
   "outputs": [],
   "source": [
    "q0=2\n",
    "omega=1\n",
    "N=30\n",
    "a=destroy(N)\n",
    "adag=a.dag()\n",
    "x=np.linspace(-8,+8,1000)\n",
    "p=np.linspace(-8,+8,1000)\n",
    "times = np.linspace(0.0, 100.0, 1000)\n",
    "\n",
    "myu=np.linspace(0.001,1,40)\n",
    "H=[]\n",
    "cops=[]\n",
    "ss=[]\n",
    "ex2=[]\n",
    "\n",
    "for i in range(len(myu)):\n",
    "    m=myu[i]\n",
    "    h=hamil(N,omega,q0,m)\n",
    "    c=coper(N,q0,m)\n",
    "    s=steadystate(h,c)\n",
    "    H.append(h)\n",
    "    cops.append(c)\n",
    "    ss.append(s)\n",
    "\n",
    "\n",
    "for i in range(len(myu)):\n",
    "    ex2.append(expect(adag*a,ss[i]))"
   ]
  },
  {
   "cell_type": "code",
   "execution_count": 14,
   "id": "1ba612d3",
   "metadata": {},
   "outputs": [],
   "source": [
    "q0=4\n",
    "omega=1\n",
    "N=30\n",
    "a=destroy(N)\n",
    "adag=a.dag()\n",
    "x=np.linspace(-8,+8,1000)\n",
    "p=np.linspace(-8,+8,1000)\n",
    "times = np.linspace(0.0, 100.0, 1000)\n",
    "\n",
    "myu=np.linspace(0.001,1,40)\n",
    "H=[]\n",
    "cops=[]\n",
    "ss=[]\n",
    "ex3=[]\n",
    "\n",
    "for i in range(len(myu)):\n",
    "    m=myu[i]\n",
    "    h=hamil(N,omega,q0,m)\n",
    "    c=coper(N,q0,m)\n",
    "    s=steadystate(h,c)\n",
    "    H.append(h)\n",
    "    cops.append(c)\n",
    "    ss.append(s)\n",
    "\n",
    "\n",
    "for i in range(len(myu)):\n",
    "    ex3.append(expect(adag*a,ss[i]))"
   ]
  },
  {
   "cell_type": "code",
   "execution_count": 16,
   "id": "98e22045",
   "metadata": {},
   "outputs": [
    {
     "data": {
      "text/plain": [
       "<matplotlib.collections.PathCollection at 0x2589a8e9be0>"
      ]
     },
     "execution_count": 16,
     "metadata": {},
     "output_type": "execute_result"
    },
    {
     "data": {
      "image/png": "[encoded data removed]",
      "text/plain": [
       "<Figure size 432x288 with 1 Axes>"
      ]
     },
     "metadata": {
      "needs_background": "light"
     },
     "output_type": "display_data"
    }
   ],
   "source": [
    "plt.scatter(myu,ex)\n",
    "#plt.scatter(myu,ex2)\n",
    "#plt.scatter(myu,ex3)"
   ]
  },
  {
   "cell_type": "code",
   "execution_count": 17,
   "id": "7dd7160c",
   "metadata": {},
   "outputs": [
    {
     "data": {
      "text/plain": [
       "<matplotlib.collections.PathCollection at 0x2589aa13cd0>"
      ]
     },
     "execution_count": 17,
     "metadata": {},
     "output_type": "execute_result"
    },
    {
     "data": {
      "image/png": "[encoded data removed]",
      "text/plain": [
       "<Figure size 432x288 with 1 Axes>"
      ]
     },
     "metadata": {
      "needs_background": "light"
     },
     "output_type": "display_data"
    }
   ],
   "source": [
    "plt.scatter(myu,ex2)"
   ]
  },
  {
   "cell_type": "code",
   "execution_count": 18,
   "id": "d24d3cc6",
   "metadata": {},
   "outputs": [
    {
     "data": {
      "text/plain": [
       "<matplotlib.collections.PathCollection at 0x2589aa78220>"
      ]
     },
     "execution_count": 18,
     "metadata": {},
     "output_type": "execute_result"
    },
    {
     "data": {
      "image/png": "[encoded data removed]",
      "text/plain": [
       "<Figure size 432x288 with 1 Axes>"
      ]
     },
     "metadata": {
      "needs_background": "light"
     },
     "output_type": "display_data"
    }
   ],
   "source": [
    "plt.scatter(myu,ex3)"
   ]
  }
 ],
 "metadata": {
  "kernelspec": {
   "display_name": "Python 3 (ipykernel)",
   "language": "python",
   "name": "python3"
  },
  "language_info": {
   "codemirror_mode": {
    "name": "ipython",
    "version": 3
   },
   "file_extension": ".py",
   "mimetype": "text/x-python",
   "name": "python",
   "nbconvert_exporter": "python",
   "pygments_lexer": "ipython3",
   "version": "3.8.8"
  }
 },
 "nbformat": 4,
 "nbformat_minor": 5
}
