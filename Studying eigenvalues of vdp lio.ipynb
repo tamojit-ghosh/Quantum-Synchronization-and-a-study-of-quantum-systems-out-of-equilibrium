{
 "cells": [
  {
   "cell_type": "code",
   "execution_count": 1,
   "id": "6f6136ba",
   "metadata": {},
   "outputs": [],
   "source": [
    "import numpy as np\n",
    "import matplotlib.pyplot as plt\n",
    "from pylab import *\n",
    "from qutip import *\n",
    "from scipy.optimize import curve_fit\n",
    "from scipy.integrate import odeint\n",
    "from scipy.integrate import simpson\n",
    "from scipy import stats\n",
    "plt.rcParams.update({'font.size': 14})"
   ]
  },
  {
   "cell_type": "code",
   "execution_count": 2,
   "id": "282db979",
   "metadata": {},
   "outputs": [],
   "source": [
    "def model(z,t,myu,q0):\n",
    "    omega=1\n",
    "    x=z[0]\n",
    "    y=z[1]\n",
    "    dxdt=omega*y\n",
    "    dydt=-myu*dxdt*(x**2-q0**2)-omega*x\n",
    "    dzdt=[dxdt,dydt]\n",
    "    return dzdt\n",
    "def coper(N,q0,myu):\n",
    "    cops=[]\n",
    "    a=destroy(N)\n",
    "    adag=a.dag()\n",
    "    zeta=myu/12\n",
    "    beta=myu/24\n",
    "    eta=myu*(q0**2-1)/4\n",
    "    const1=myu*(q0**2-1)\n",
    "    const2=3*myu/4\n",
    "    c1=sqrt(const1)*adag\n",
    "    c2=sqrt(const2)*a**2\n",
    "    c3=sqrt(myu)*(adag*a-0.5*adag**2)\n",
    "    cops.append(c1)\n",
    "    cops.append(c2)\n",
    "    cops.append(c3)\n",
    "    return cops\n",
    "def hamil(N,omega,q0,myu):\n",
    "    a=destroy(N)\n",
    "    adag=a.dag()\n",
    "    zeta=myu/12\n",
    "    beta=myu/24\n",
    "    eta=myu*(q0**2-1)/4\n",
    "    H=omega*adag*a+(1j*zeta*(adag*a**3-(adag**3)*a))+(1j*beta*(a**4-adag**4))-(1j*eta*(a**2-adag**2))\n",
    "    return H\n",
    "def retdiag(rho,N):\n",
    "    rhoii=[]\n",
    "    n=[]\n",
    "    for i in range(N):\n",
    "        rhoii.append(rho.diag())\n",
    "        n.append(i+1)\n",
    "    return n,rhoii\n",
    "def retdens(H,cops,N):\n",
    "    expop=rand_dm(N)\n",
    "    times = np.linspace(0.0, 100.0, 10000)\n",
    "    result_dm = mesolve(H, expop, times, cops)\n",
    "    return result_dm.states    \n",
    "def Gauss(x, A, B, C):\n",
    "    y = A*np.exp(-((x-B)/C)**2)\n",
    "    return y\n",
    "def expdecay(x,lam,A,C):\n",
    "    y=A*np.exp(-lam*(x-C))\n",
    "    return y\n",
    "def linfit(x,lam,C):\n",
    "    y=lam*x+C\n",
    "    return y\n",
    "def sinfreq(x,A,omega,phi):\n",
    "    y=A*np.sin(omega*x+phi)\n",
    "    return y\n",
    "def eig(myu,qo,omega):\n",
    "    e=[((myu*q0**2)+1j*sqrt(4*omega**2-(myu**2)*q0**4))/2,((myu*q0**2)-1j*sqrt(4*omega**2-(myu**2)*q0**4))/2]\n",
    "    return e\n",
    "def retindex(tl,period):\n",
    "    index2=0\n",
    "    t2=0\n",
    "    t2=tl[0]+abs(period)\n",
    "    epi=0.01\n",
    "    for i in range(len(tl)):\n",
    "        if tl[i]<=(t2+epi) and tl[i]>=(t2-epi):\n",
    "            index2=i\n",
    "    return index2\n",
    "def jacob(omega,q0,myu,q,p):\n",
    "    j=np.zeros((2,2))\n",
    "    j[0][0]=0\n",
    "    j[0][1]=omega\n",
    "    j[1][0]=-2*myu*q*p-omega\n",
    "    j[1][1]=-myu*(q**2-q0**2)\n",
    "    return j\n",
    "def floquet(omega,q0,myu,position,momentum,times,T):\n",
    "    final=np.identity(2)\n",
    "    I=np.identity(2)\n",
    "    for i in range(len(times)):\n",
    "        q=position[i]\n",
    "        p=momentum[i]\n",
    "        final=final*(I+(T/len(times))*(jacob(omega,q0,myu,q,p)))\n",
    "    return final\n",
    "def square(list):\n",
    "    return [i ** 2 for i in list]\n",
    "def tracnorm(A,B):\n",
    "    C=A-B\n",
    "    return ((C*C.dag())).sqrtm().tr()"
   ]
  },
  {
   "cell_type": "code",
   "execution_count": 3,
   "id": "b76e495f",
   "metadata": {},
   "outputs": [],
   "source": [
    "q0=3\n",
    "omega=1\n",
    "N=30\n",
    "x=np.linspace(-8,+8,200)\n",
    "p=np.linspace(-8,+8,200)"
   ]
  },
  {
   "cell_type": "code",
   "execution_count": 4,
   "id": "54aa9d84",
   "metadata": {},
   "outputs": [],
   "source": [
    "myu=[0.001,0.009,0.03,0.05,0.07,0.1]\n",
    "H=[]\n",
    "cops=[]\n",
    "ss=[]"
   ]
  },
  {
   "cell_type": "code",
   "execution_count": 5,
   "id": "fc67d6ff",
   "metadata": {},
   "outputs": [],
   "source": [
    "for i in range(len(myu)):\n",
    "    m=myu[i]\n",
    "    h=hamil(N,omega,q0,m)\n",
    "    c=coper(N,q0,m)\n",
    "    s=steadystate(h,c)\n",
    "    H.append(h)\n",
    "    cops.append(c)\n",
    "    ss.append(s)"
   ]
  },
  {
   "cell_type": "code",
   "execution_count": 9,
   "id": "abd972d5",
   "metadata": {},
   "outputs": [
    {
     "data": {
      "image/png": "[encoded data removed]",
      "text/plain": [
       "<Figure size 432x288 with 1 Axes>"
      ]
     },
     "metadata": {
      "needs_background": "light"
     },
     "output_type": "display_data"
    }
   ],
   "source": [
    "lo=liouvillian(H[1], cops[1])\n",
    "el=lo.eigenenergies()\n",
    "ev=lo.eigenstates()\n",
    "x = [ele.real for ele in el]\n",
    "y = [ele.imag for ele in el]\n",
    "\n",
    "plt.scatter(x, y,s=10)\n",
    "plt.ylabel('Imaginary')\n",
    "plt.xlabel('Real')\n",
    "plt.title('Eigenvalues of the Liouvillian')\n",
    "plt.xlim(-0.1,0.2)\n",
    "plt.ylim(-5,5)\n",
    "#plt.savefig('lioeigenin.png')\n",
    "plt.tight_layout()\n",
    "plt.show()\n"
   ]
  },
  {
   "cell_type": "code",
   "execution_count": 10,
   "id": "6c0be4eb",
   "metadata": {},
   "outputs": [],
   "source": [
    "img_ev=[]\n",
    "\n",
    "\n",
    "for i in range(len(el)):\n",
    "    if (el[i].real< 1.0e-13) and (el[i].real > -1.0e-13)  :\n",
    "        \n",
    "        img_ev.append(el[i])\n",
    "        \n",
    "    elif el[i].real==0:\n",
    "        img_ev.append(el[i])\n",
    "        \n",
    "img_ev1=[]\n",
    "\n",
    "for i in range(len(img_ev)):\n",
    "    if (math.trunc(img_ev[i].imag)!=0):\n",
    "        \n",
    "        \n",
    "        \n",
    "        img_ev1.append(img_ev[i]) \n",
    "        "
   ]
  },
  {
   "cell_type": "code",
   "execution_count": 11,
   "id": "f105d115",
   "metadata": {},
   "outputs": [],
   "source": [
    "smallel=[]\n",
    "for i in range(len(myu)):\n",
    "    lo=liouvillian(H[i], cops[i])\n",
    "    el=lo.eigenenergies()\n",
    "    realel=[]\n",
    "    realel = [-ele.real for ele in el]\n",
    "    smallel.append(realel[-2]-realel[-1])\n",
    "        \n",
    "    "
   ]
  },
  {
   "cell_type": "code",
   "execution_count": 12,
   "id": "1759fda8",
   "metadata": {},
   "outputs": [
    {
     "data": {
      "text/plain": [
       "<matplotlib.collections.PathCollection at 0x1bf04db9130>"
      ]
     },
     "execution_count": 12,
     "metadata": {},
     "output_type": "execute_result"
    },
    {
     "data": {
      "image/png": "[encoded data removed]",
      "text/plain": [
       "<Figure size 432x288 with 1 Axes>"
      ]
     },
     "metadata": {
      "needs_background": "light"
     },
     "output_type": "display_data"
    }
   ],
   "source": [
    "plt.scatter(myu,smallel)"
   ]
  },
  {
   "cell_type": "code",
   "execution_count": 14,
   "id": "8e9338c0",
   "metadata": {},
   "outputs": [],
   "source": [
    "lamb=[-0.00036594, -0.00297615, -0.01151289, -0.01877152, -0.02548312,\n",
    "       -0.03810707]"
   ]
  },
  {
   "cell_type": "code",
   "execution_count": 29,
   "id": "c99c82c6",
   "metadata": {},
   "outputs": [
    {
     "data": {
      "image/png": "[encoded data removed]",
      "text/plain": [
       "<Figure size 432x288 with 1 Axes>"
      ]
     },
     "metadata": {
      "needs_background": "light"
     },
     "output_type": "display_data"
    }
   ],
   "source": [
    "plt.scatter(myu,np.abs(lamb),label=r'$\\lambda_T$')\n",
    "plt.scatter(myu,smallel,label=r'$\\lambda_L$')\n",
    "plt.xlabel(r'$\\mu$')\n",
    "plt.legend()\n",
    "plt.tight_layout()\n",
    "plt.savefig('liotracecomp.png')\n"
   ]
  },
  {
   "cell_type": "code",
   "execution_count": 18,
   "id": "d3df1cac",
   "metadata": {},
   "outputs": [],
   "source": [
    "flexp=[-0.0035339617294815277,\n",
    " -0.07812232131595394,\n",
    " -0.27245448225588853,\n",
    " -0.4593171640883984,\n",
    " -0.6509590318546369,\n",
    " -0.9599822867872988]"
   ]
  },
  {
   "cell_type": "code",
   "execution_count": 19,
   "id": "ec8bc2dd",
   "metadata": {},
   "outputs": [
    {
     "data": {
      "image/png": "[encoded data removed]",
      "text/plain": [
       "<Figure size 432x288 with 1 Axes>"
      ]
     },
     "metadata": {
      "needs_background": "light"
     },
     "output_type": "display_data"
    }
   ],
   "source": [
    "guess=np.random.rand(2)\n",
    "parameters1, covariance1 = curve_fit(linfit, myu, smallel,p0=guess)\n",
    "fit_A = parameters1[0]\n",
    "fit_B = parameters1[1]\n",
    "fit_y=linfit(np.asarray(myu),fit_A,fit_B)\n",
    "plt.plot (myu, smallel, 'o', label='data')\n",
    "plt.plot(myu, fit_y, 'o', label='fit')\n",
    "plt.legend()\n",
    "plt.ylabel(r'$\\lambda_L$')\n",
    "plt.xlabel(r'$\\mu$')\n",
    "plt.title('Fitted with y=m1*x+c')\n",
    "plt.tight_layout()\n",
    "#plt.savefig('lammyufit.png')"
   ]
  },
  {
   "cell_type": "code",
   "execution_count": 20,
   "id": "c0996797",
   "metadata": {},
   "outputs": [],
   "source": [
    "m1=fit_A"
   ]
  },
  {
   "cell_type": "code",
   "execution_count": 21,
   "id": "2691cf27",
   "metadata": {},
   "outputs": [
    {
     "data": {
      "image/png": "[encoded data removed]",
      "text/plain": [
       "<Figure size 432x288 with 1 Axes>"
      ]
     },
     "metadata": {
      "needs_background": "light"
     },
     "output_type": "display_data"
    }
   ],
   "source": [
    "guess=np.random.rand(2)\n",
    "parameters1, covariance1 = curve_fit(linfit, myu, np.abs(flexp),p0=guess)\n",
    "fit_A = parameters1[0]\n",
    "fit_B = parameters1[1]\n",
    "fit_y=linfit(np.asarray(myu),fit_A,fit_B)\n",
    "plt.plot (myu, np.abs(flexp), 'o', label='data')\n",
    "plt.plot(myu, fit_y, 'o', label='fit')\n",
    "plt.legend()\n",
    "plt.ylabel(r'$\\gamma$')\n",
    "plt.xlabel(r'$\\mu$')\n",
    "plt.title('Fitted with y=m2*x+c')\n",
    "#plt.savefig('lammyufitforlio.png')"
   ]
  },
  {
   "cell_type": "code",
   "execution_count": 22,
   "id": "b675d786",
   "metadata": {},
   "outputs": [],
   "source": [
    "m2=fit_A"
   ]
  },
  {
   "cell_type": "code",
   "execution_count": 30,
   "id": "7130f5ac",
   "metadata": {},
   "outputs": [
    {
     "data": {
      "image/png": "[encoded data removed]",
      "text/plain": [
       "<Figure size 432x288 with 1 Axes>"
      ]
     },
     "metadata": {
      "needs_background": "light"
     },
     "output_type": "display_data"
    }
   ],
   "source": [
    "plt.scatter(myu,np.abs(smallel),label=r'$\\lambda_L$')\n",
    "plt.scatter(myu,(m1/m2)*np.asarray(np.abs(flexp)),label=r'$|\\gamma|$')\n",
    "plt.legend()\n",
    "plt.xlabel(r'$\\mu$')\n",
    "plt.title('Superimposed after scaling')\n",
    "plt.tight_layout()\n",
    "plt.savefig(\"lamliogamsuper.png\")"
   ]
  },
  {
   "cell_type": "code",
   "execution_count": 24,
   "id": "2649d886",
   "metadata": {},
   "outputs": [
    {
     "data": {
      "text/plain": [
       "0.19554790497801045"
      ]
     },
     "execution_count": 24,
     "metadata": {},
     "output_type": "execute_result"
    }
   ],
   "source": [
    "m1/m2"
   ]
  },
  {
   "cell_type": "code",
   "execution_count": 25,
   "id": "57920f1d",
   "metadata": {},
   "outputs": [
    {
     "data": {
      "text/plain": [
       "1.8785869600040406"
      ]
     },
     "execution_count": 25,
     "metadata": {},
     "output_type": "execute_result"
    }
   ],
   "source": [
    "m1"
   ]
  },
  {
   "cell_type": "code",
   "execution_count": 17,
   "id": "329d7065",
   "metadata": {},
   "outputs": [
    {
     "data": {
      "text/plain": [
       "array([1.00123466, 1.0116751 , 1.04568704, 1.08611037, 1.1316253 ,\n",
       "       1.2049545 ])"
      ]
     },
     "execution_count": 17,
     "metadata": {},
     "output_type": "execute_result"
    }
   ],
   "source": [
    "np.exp(smallel)"
   ]
  }
 ],
 "metadata": {
  "kernelspec": {
   "display_name": "Python 3 (ipykernel)",
   "language": "python",
   "name": "python3"
  },
  "language_info": {
   "codemirror_mode": {
    "name": "ipython",
    "version": 3
   },
   "file_extension": ".py",
   "mimetype": "text/x-python",
   "name": "python",
   "nbconvert_exporter": "python",
   "pygments_lexer": "ipython3",
   "version": "3.8.8"
  }
 },
 "nbformat": 4,
 "nbformat_minor": 5
}
